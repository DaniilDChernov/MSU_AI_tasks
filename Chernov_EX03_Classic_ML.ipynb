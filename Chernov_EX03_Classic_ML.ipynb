{
  "cells": [
    {
      "cell_type": "markdown",
      "metadata": {
        "id": "view-in-github",
        "colab_type": "text"
      },
      "source": [
        "<a href=\"https://colab.research.google.com/github/DaniilDChernov/MSU_AI_tasks/blob/main/Chernov_EX03_Classic_ML.ipynb\" target=\"_parent\"><img src=\"https://colab.research.google.com/assets/colab-badge.svg\" alt=\"Open In Colab\"/></a>"
      ]
    },
    {
      "cell_type": "markdown",
      "metadata": {
        "id": "hglFTv9n1dMW"
      },
      "source": [
        "# Задание 1. Bootstrap"
      ]
    },
    {
      "cell_type": "markdown",
      "metadata": {
        "id": "gFuxewOf1dMY"
      },
      "source": [
        "В этом задании используйте датасет breast_cancer — классический датасет для задачи бинарной классификации. Обучите модели:\n",
        "\n",
        " - `DecisionTreeClassifier`\n",
        " - `RandomForestClassifier`\n",
        " - `LigthGBMClassifier`\n",
        " - `SVC`\n",
        " - `BaggingClassifier` с базовым класификатором `SVC`.\n",
        "\n",
        "Параметры моделей можете оставить по умолчанию или задать сами.\n",
        "\n",
        "Для каждой модели посчитайте [корреляцию Мэтьюса](https://en.wikipedia.org/wiki/Phi_coefficient) — метрику для оценки качества бинарной классификации, в частности, устойчивую к дисбалансу классов, ([`sklearn.metrics.matthews_corrcoef`](https://scikit-learn.org/stable/modules/generated/sklearn.metrics.matthews_corrcoef.html), подробнее почитать про его пользу можно [здесь](https://bmcgenomics.biomedcentral.com/articles/10.1186/s12864-019-6413-7)) — для предсказанного ею класса и реального.\n",
        "\n",
        "С помощью bootstrap-подхода постройте 90% доверительные интервалы для качества полученных моделей. Используйте функцию `bootstrap_metric()` из лекции.\n",
        "\n",
        "Постройте [боксплоты](https://seaborn.pydata.org/generated/seaborn.boxplot.html) для качества полученных моделей."
      ]
    },
    {
      "cell_type": "markdown",
      "metadata": {
        "id": "h8TMoBb91dMZ"
      },
      "source": [
        "Импорт необходимых библиотек:"
      ]
    },
    {
      "cell_type": "code",
      "execution_count": null,
      "metadata": {
        "id": "yLMnP0GE1dMZ"
      },
      "outputs": [],
      "source": [
        "import lightgbm\n",
        "import numpy as np\n",
        "import pandas as pd\n",
        "import seaborn as sns\n",
        "import sklearn.datasets\n",
        "import matplotlib.pyplot as plt\n",
        "\n",
        "from sklearn.svm import SVC\n",
        "from sklearn.metrics import matthews_corrcoef\n",
        "from sklearn.tree import DecisionTreeClassifier\n",
        "from sklearn.model_selection import train_test_split\n",
        "from sklearn.ensemble import RandomForestClassifier, BaggingClassifier"
      ]
    },
    {
      "cell_type": "markdown",
      "metadata": {
        "id": "JlxF_GvN1dMa"
      },
      "source": [
        "Загрузка датасета:"
      ]
    },
    {
      "cell_type": "code",
      "execution_count": null,
      "metadata": {
        "id": "x4Cs_H4g1dMb",
        "colab": {
          "base_uri": "https://localhost:8080/"
        },
        "outputId": "2e559708-558f-4f0c-ec86-45bc104616ce"
      },
      "outputs": [
        {
          "output_type": "stream",
          "name": "stdout",
          "text": [
            ".. _breast_cancer_dataset:\n",
            "\n",
            "Breast cancer wisconsin (diagnostic) dataset\n",
            "--------------------------------------------\n",
            "\n",
            "**Data Set Characteristics:**\n",
            "\n",
            "    :Number of Instances: 569\n",
            "\n",
            "    :Number of Attributes: 30 numeric, predictive attributes and the class\n",
            "\n",
            "    :Attribute Information:\n",
            "        - radius (mean of distances from center to points on the perimeter)\n",
            "        - texture (standard deviation of gray-scale values)\n",
            "        - perimeter\n",
            "        - area\n",
            "        - smoothness (local variation in radius lengths)\n",
            "        - compactness (perimeter^2 / area - 1.0)\n",
            "        - concavity (severity of concave portions of the contour)\n",
            "        - concave points (number of concave portions of the contour)\n",
            "        - symmetry\n",
            "        - fractal dimension (\"coastline approximation\" - 1)\n",
            "\n",
            "        The mean, standard error, and \"worst\" or largest (mean of the three\n",
            "        worst/largest values) of these features were computed for each image,\n",
            "        resulting in 30 features.  For instance, field 0 is Mean Radius, field\n",
            "        10 is Radius SE, field 20 is Worst Radius.\n",
            "\n",
            "        - class:\n",
            "                - WDBC-Malignant\n",
            "                - WDBC-Benign\n",
            "\n",
            "    :Summary Statistics:\n",
            "\n",
            "    ===================================== ====== ======\n",
            "                                           Min    Max\n",
            "    ===================================== ====== ======\n",
            "    radius (mean):                        6.981  28.11\n",
            "    texture (mean):                       9.71   39.28\n",
            "    perimeter (mean):                     43.79  188.5\n",
            "    area (mean):                          143.5  2501.0\n",
            "    smoothness (mean):                    0.053  0.163\n",
            "    compactness (mean):                   0.019  0.345\n",
            "    concavity (mean):                     0.0    0.427\n",
            "    concave points (mean):                0.0    0.201\n",
            "    symmetry (mean):                      0.106  0.304\n",
            "    fractal dimension (mean):             0.05   0.097\n",
            "    radius (standard error):              0.112  2.873\n",
            "    texture (standard error):             0.36   4.885\n",
            "    perimeter (standard error):           0.757  21.98\n",
            "    area (standard error):                6.802  542.2\n",
            "    smoothness (standard error):          0.002  0.031\n",
            "    compactness (standard error):         0.002  0.135\n",
            "    concavity (standard error):           0.0    0.396\n",
            "    concave points (standard error):      0.0    0.053\n",
            "    symmetry (standard error):            0.008  0.079\n",
            "    fractal dimension (standard error):   0.001  0.03\n",
            "    radius (worst):                       7.93   36.04\n",
            "    texture (worst):                      12.02  49.54\n",
            "    perimeter (worst):                    50.41  251.2\n",
            "    area (worst):                         185.2  4254.0\n",
            "    smoothness (worst):                   0.071  0.223\n",
            "    compactness (worst):                  0.027  1.058\n",
            "    concavity (worst):                    0.0    1.252\n",
            "    concave points (worst):               0.0    0.291\n",
            "    symmetry (worst):                     0.156  0.664\n",
            "    fractal dimension (worst):            0.055  0.208\n",
            "    ===================================== ====== ======\n",
            "\n",
            "    :Missing Attribute Values: None\n",
            "\n",
            "    :Class Distribution: 212 - Malignant, 357 - Benign\n",
            "\n",
            "    :Creator:  Dr. William H. Wolberg, W. Nick Street, Olvi L. Mangasarian\n",
            "\n",
            "    :Donor: Nick Street\n",
            "\n",
            "    :Date: November, 1995\n",
            "\n",
            "This is a copy of UCI ML Breast Cancer Wisconsin (Diagnostic) datasets.\n",
            "https://goo.gl/U2Uwz2\n",
            "\n",
            "Features are computed from a digitized image of a fine needle\n",
            "aspirate (FNA) of a breast mass.  They describe\n",
            "characteristics of the cell nuclei present in the image.\n",
            "\n",
            "Separating plane described above was obtained using\n",
            "Multisurface Method-Tree (MSM-T) [K. P. Bennett, \"Decision Tree\n",
            "Construction Via Linear Programming.\" Proceedings of the 4th\n",
            "Midwest Artificial Intelligence and Cognitive Science Society,\n",
            "pp. 97-101, 1992], a classification method which uses linear\n",
            "programming to construct a decision tree.  Relevant features\n",
            "were selected using an exhaustive search in the space of 1-4\n",
            "features and 1-3 separating planes.\n",
            "\n",
            "The actual linear program used to obtain the separating plane\n",
            "in the 3-dimensional space is that described in:\n",
            "[K. P. Bennett and O. L. Mangasarian: \"Robust Linear\n",
            "Programming Discrimination of Two Linearly Inseparable Sets\",\n",
            "Optimization Methods and Software 1, 1992, 23-34].\n",
            "\n",
            "This database is also available through the UW CS ftp server:\n",
            "\n",
            "ftp ftp.cs.wisc.edu\n",
            "cd math-prog/cpo-dataset/machine-learn/WDBC/\n",
            "\n",
            ".. topic:: References\n",
            "\n",
            "   - W.N. Street, W.H. Wolberg and O.L. Mangasarian. Nuclear feature extraction \n",
            "     for breast tumor diagnosis. IS&T/SPIE 1993 International Symposium on \n",
            "     Electronic Imaging: Science and Technology, volume 1905, pages 861-870,\n",
            "     San Jose, CA, 1993.\n",
            "   - O.L. Mangasarian, W.N. Street and W.H. Wolberg. Breast cancer diagnosis and \n",
            "     prognosis via linear programming. Operations Research, 43(4), pages 570-577, \n",
            "     July-August 1995.\n",
            "   - W.H. Wolberg, W.N. Street, and O.L. Mangasarian. Machine learning techniques\n",
            "     to diagnose breast cancer from fine-needle aspirates. Cancer Letters 77 (1994) \n",
            "     163-171.\n"
          ]
        }
      ],
      "source": [
        "breast_cancer = sklearn.datasets.load_breast_cancer()\n",
        "print(breast_cancer.DESCR)"
      ]
    },
    {
      "cell_type": "code",
      "execution_count": null,
      "metadata": {
        "id": "koNsolqy1dMb"
      },
      "outputs": [],
      "source": [
        "x = breast_cancer.data\n",
        "y = breast_cancer.target\n",
        "x_train, x_test, y_train, y_test = train_test_split(x, y, random_state=42)"
      ]
    },
    {
      "cell_type": "code",
      "source": [
        "def bootstrap_metric(x, y, metric_fn, samples_cnt=1000, random_state=42):\n",
        "    np.random.seed(random_state)\n",
        "    b_metric = np.zeros(samples_cnt)\n",
        "    for it in range(samples_cnt):\n",
        "        poses = np.random.choice(x.shape[0], size=x.shape[0], replace=True)\n",
        "\n",
        "        x_boot = x[poses]\n",
        "        y_boot = y[poses]\n",
        "        m_val = metric_fn(x_boot, y_boot)\n",
        "        b_metric[it] = m_val\n",
        "\n",
        "    return b_metric"
      ],
      "metadata": {
        "id": "GAikhZo3JcdA"
      },
      "execution_count": null,
      "outputs": []
    },
    {
      "cell_type": "code",
      "execution_count": null,
      "metadata": {
        "id": "dvRq9wia1dMc"
      },
      "outputs": [],
      "source": [
        "# Your code here\n",
        "clf = dict()\n",
        "\n",
        "names_of_clf = ['DecisionTreeClassifier',\n",
        "                'RandomForestClassifier',\n",
        "                'LigthGBMClassifier',\n",
        "                'SVC',\n",
        "                'BaggingClassifier']\n",
        "\n",
        "clf['DecisionTreeClassifier'] = DecisionTreeClassifier()\n",
        "clf['RandomForestClassifier'] = RandomForestClassifier()\n",
        "clf['LigthGBMClassifier'] = lightgbm.LGBMClassifier(\n",
        "    n_estimators=2000,  # can use more estimators due to SPEEEEEED\n",
        "    learning_rate=0.1,\n",
        "    max_depth=-1,\n",
        "    num_leaves=2**5,\n",
        "    random_state=42,\n",
        "    min_child_weight=9,\n",
        "    n_jobs=-1,\n",
        "    force_col_wise=True,\n",
        "    verbose=-1,\n",
        ")\n",
        "clf['SVC'] =  SVC()\n",
        "clf['BaggingClassifier'] =  BaggingClassifier()\n",
        "\n",
        "for name in names_of_clf:\n",
        "    clf[name].fit(x_train, y_train)"
      ]
    },
    {
      "cell_type": "code",
      "source": [
        "boot_cor = dict()\n",
        "\n",
        "for name in names_of_clf:\n",
        "    print(name)\n",
        "    boot_cor[name] = bootstrap_metric(\n",
        "        x= clf[name].predict(x_test).round(),\n",
        "        y= y_test,\n",
        "        metric_fn=lambda x, y: matthews_corrcoef(x, y),\n",
        ")"
      ],
      "metadata": {
        "colab": {
          "base_uri": "https://localhost:8080/"
        },
        "id": "A_SAJ1LfFUKC",
        "outputId": "f85c320c-d3d0-42ce-fe41-a7fb45c3dc4c"
      },
      "execution_count": null,
      "outputs": [
        {
          "output_type": "stream",
          "name": "stdout",
          "text": [
            "DecisionTreeClassifier\n",
            "RandomForestClassifier\n",
            "LigthGBMClassifier\n",
            "SVC\n",
            "BaggingClassifier\n"
          ]
        }
      ]
    },
    {
      "cell_type": "code",
      "source": [
        "alpha = 0.05\n",
        "for name in names_of_clf:\n",
        "    lo, hi = np.quantile(boot_cor[name], q=[alpha / 2, 1 - alpha / 2])\n",
        "    print(f\"{name} confidence interval (bootstap): [{lo:.3f}, {hi:.3f}]\")"
      ],
      "metadata": {
        "colab": {
          "base_uri": "https://localhost:8080/"
        },
        "id": "2fef0d65FWRP",
        "outputId": "a18b2949-ada5-44a5-9080-8299e62b70b5"
      },
      "execution_count": null,
      "outputs": [
        {
          "output_type": "stream",
          "name": "stdout",
          "text": [
            "DecisionTreeClassifier confidence interval (bootstap): [0.797, 0.955]\n",
            "RandomForestClassifier confidence interval (bootstap): [0.881, 0.986]\n",
            "LigthGBMClassifier confidence interval (bootstap): [0.856, 0.985]\n",
            "SVC confidence interval (bootstap): [0.817, 0.969]\n",
            "BaggingClassifier confidence interval (bootstap): [0.771, 0.940]\n"
          ]
        }
      ]
    },
    {
      "cell_type": "code",
      "source": [
        "#print([\"Log-reg\"] * 1000 + [\"SVC\"] * 1000 + [\"DT\"] * 1000 + [\"DT1\"] * 1000 + [\"DT2\"] * 1000)\n",
        "#print(np.sum([[name] * 1000 for name in names_of_clf ]))\n",
        "np.concatenate([[name] * 1000  for name in names_of_clf])"
      ],
      "metadata": {
        "colab": {
          "base_uri": "https://localhost:8080/"
        },
        "id": "O5wfWFe6QyH_",
        "outputId": "4f543637-54a8-40ce-95fd-00c59f1107e3"
      },
      "execution_count": null,
      "outputs": [
        {
          "output_type": "execute_result",
          "data": {
            "text/plain": [
              "array(['DecisionTreeClassifier', 'DecisionTreeClassifier',\n",
              "       'DecisionTreeClassifier', ..., 'BaggingClassifier',\n",
              "       'BaggingClassifier', 'BaggingClassifier'], dtype='<U22')"
            ]
          },
          "metadata": {},
          "execution_count": 161
        }
      ]
    },
    {
      "cell_type": "code",
      "source": [
        "plt.figure(figsize=(16, 6))\n",
        "sns.boxplot(\n",
        "    y = np.concatenate([boot_cor[name] for name in names_of_clf ]),\n",
        "    x = np.concatenate([[name] * 1000  for name in names_of_clf])\n",
        ")\n",
        "plt.ylabel(\"matthews corrcoef\", size=20)\n",
        "plt.xlabel(\"Base models\", size=20)\n",
        "plt.tick_params(axis=\"both\", which=\"major\", labelsize=14)\n",
        "plt.show()"
      ],
      "metadata": {
        "colab": {
          "base_uri": "https://localhost:8080/",
          "height": 561
        },
        "id": "GKL8DBxiHTQv",
        "outputId": "69564f30-3f17-4a38-e8a4-51f062c08d2b"
      },
      "execution_count": null,
      "outputs": [
        {
          "output_type": "display_data",
          "data": {
            "text/plain": [
              "<Figure size 1600x600 with 1 Axes>"
            ],
            "image/png": "[encoded data removed]"
          },
          "metadata": {}
        }
      ]
    },
    {
      "cell_type": "markdown",
      "metadata": {
        "id": "XflQPXBA1dMc"
      },
      "source": [
        "Сделайте вывод о том, какие модели работают лучше.\n",
        "\n",
        "**Напишите вывод**"
      ]
    },
    {
      "cell_type": "markdown",
      "metadata": {
        "id": "9gHU-ak31dMd"
      },
      "source": [
        "## Формат результата"
      ]
    },
    {
      "cell_type": "markdown",
      "metadata": {
        "id": "K2BiE8o21dMd"
      },
      "source": [
        "График с демонстрацией корреляции Мэтьюса для следующих моделей:\n",
        "\n",
        " - `DecisionTreeClassifier`\n",
        " - `RandomForestClassifier`\n",
        " - `LigthGBMClassifier`\n",
        " - `SVC`\n",
        " - `BaggingClassifier` с базовым класификатором `SVC`\n",
        "\n",
        "Пример графика:"
      ]
    },
    {
      "cell_type": "markdown",
      "metadata": {
        "id": "bPr64iMd1dMd"
      },
      "source": [
        "<img src =\"https://edunet.kea.su/repo/EduNet-web_dependencies/dev-2.0/Exercises/EX03/result_1_task_ex03.png\" width=\"600\">"
      ]
    },
    {
      "cell_type": "markdown",
      "metadata": {
        "id": "b2RRWt421dMd"
      },
      "source": [
        "# Задание 2. Дисбаланс классов"
      ]
    },
    {
      "cell_type": "markdown",
      "metadata": {
        "id": "IDQ5hXt71dMd"
      },
      "source": [
        "Установка и импорт необходимых библиотек:"
      ]
    },
    {
      "cell_type": "code",
      "execution_count": null,
      "metadata": {
        "id": "ktFRK6bg1dMd",
        "colab": {
          "base_uri": "https://localhost:8080/"
        },
        "outputId": "8e07ab41-1cca-468d-b6ad-3c394fbf848a"
      },
      "outputs": [
        {
          "output_type": "stream",
          "name": "stdout",
          "text": [
            "\u001b[?25l     \u001b[90m━━━━━━━━━━━━━━━━━━━━━━━━━━━━━━━━━━━━━━━━\u001b[0m \u001b[32m0.0/235.6 kB\u001b[0m \u001b[31m?\u001b[0m eta \u001b[36m-:--:--\u001b[0m\r\u001b[2K     \u001b[91m━━━━━━━━━━━━━━━━━━━━━━━━\u001b[0m\u001b[90m╺\u001b[0m\u001b[90m━━━━━━━━━━━━━━━\u001b[0m \u001b[32m143.4/235.6 kB\u001b[0m \u001b[31m4.4 MB/s\u001b[0m eta \u001b[36m0:00:01\u001b[0m\r\u001b[2K     \u001b[90m━━━━━━━━━━━━━━━━━━━━━━━━━━━━━━━━━━━━━━━━\u001b[0m \u001b[32m235.6/235.6 kB\u001b[0m \u001b[31m4.5 MB/s\u001b[0m eta \u001b[36m0:00:00\u001b[0m\n",
            "\u001b[?25h"
          ]
        }
      ],
      "source": [
        "!pip install -qU imbalanced-learn"
      ]
    },
    {
      "cell_type": "code",
      "execution_count": null,
      "metadata": {
        "id": "KAhzu-pB1dMe"
      },
      "outputs": [],
      "source": [
        "import imblearn\n",
        "import numpy as np\n",
        "import pandas as pd\n",
        "import seaborn as sns\n",
        "import matplotlib.pyplot as plt\n",
        "\n",
        "from sklearn.ensemble import RandomForestClassifier\n",
        "from sklearn.metrics import accuracy_score, balanced_accuracy_score\n",
        "from sklearn.model_selection import (\n",
        "    train_test_split,\n",
        "    KFold,\n",
        "    StratifiedKFold,\n",
        "    cross_validate,\n",
        ")"
      ]
    },
    {
      "cell_type": "markdown",
      "metadata": {
        "id": "h2GMzxd51dMe"
      },
      "source": [
        "Важно обращать внимание на сбалансированность классов в наборе.\n",
        "Предположим, у нас есть некоторый набор данных со следующими метками классов:"
      ]
    },
    {
      "cell_type": "code",
      "execution_count": null,
      "metadata": {
        "id": "isNBhs-P1dMe"
      },
      "outputs": [],
      "source": [
        "real_labels = [1, 0, 1, 0, 0, 0, 0, 1, 0, 0, 0, 0, 1, 0, 0, 1, 0, 0, 0, 0, 0]"
      ]
    },
    {
      "cell_type": "markdown",
      "metadata": {
        "id": "autb_Lkp1dMe"
      },
      "source": [
        "В наборе 16 объектов относятся к классу 0, а 5 — к классу 1.\n",
        "\n",
        "Мы обучили две модели. Первая всегда выдает 0:"
      ]
    },
    {
      "cell_type": "code",
      "execution_count": null,
      "metadata": {
        "id": "CIBScU7b1dMe"
      },
      "outputs": [],
      "source": [
        "model1_res = [0, 0, 0, 0, 0, 0, 0, 0, 0, 0, 0, 0, 0, 0, 0, 0, 0, 0, 0, 0, 0]"
      ]
    },
    {
      "cell_type": "markdown",
      "metadata": {
        "id": "3Ps2z7Eu1dMe"
      },
      "source": [
        "Вторая сумела обнаружить некоторую закономерность в признаках:"
      ]
    },
    {
      "cell_type": "code",
      "execution_count": null,
      "metadata": {
        "id": "drus3iH01dMe"
      },
      "outputs": [],
      "source": [
        "model2_res = [1, 0, 1, 1, 0, 0, 0, 0, 1, 0, 0, 0, 1, 0, 0, 1, 0, 0, 1, 0, 1]"
      ]
    },
    {
      "cell_type": "markdown",
      "metadata": {
        "id": "4ANVVvYO1dMe"
      },
      "source": [
        "Рассчитаем точность Accuracy (см. лекцию 1) для этих моделей:"
      ]
    },
    {
      "cell_type": "code",
      "execution_count": null,
      "metadata": {
        "id": "JZlbLiTs1dMf",
        "colab": {
          "base_uri": "https://localhost:8080/"
        },
        "outputId": "d87a7774-4384-45ee-fae5-f0b388a46ceb"
      },
      "outputs": [
        {
          "output_type": "stream",
          "name": "stdout",
          "text": [
            "Accuracy for model1:  0.7619047619047619\n",
            "Accuracy for model2:  0.7619047619047619\n"
          ]
        }
      ],
      "source": [
        "print(\"Accuracy for model1: \", accuracy_score(real_labels, model1_res))\n",
        "print(\"Accuracy for model2: \", accuracy_score(real_labels, model2_res))"
      ]
    },
    {
      "cell_type": "markdown",
      "metadata": {
        "id": "0CwuZBAU1dMf"
      },
      "source": [
        "Accuracy нельзя использовать, если данные не сбалансированы. Для несбалансированных данных необходимо использовать свои метрики и модели. Одной из таких метрик является balanced accuracy. При вычислении данной метрики считается полнота (recall) отдельно для каждого класса и вычисляется среднее значение:"
      ]
    },
    {
      "cell_type": "code",
      "execution_count": null,
      "metadata": {
        "id": "9EL04Ruy1dMf",
        "colab": {
          "base_uri": "https://localhost:8080/"
        },
        "outputId": "773116c4-8c7f-4f3c-820a-11a2fc3d3191"
      },
      "outputs": [
        {
          "output_type": "stream",
          "name": "stdout",
          "text": [
            "Balanced accuracy for model1:  0.5\n",
            "Balanced accuracy for model2:  0.775\n"
          ]
        }
      ],
      "source": [
        "# Balanced accuracy for model1 = (16/16+0/5)/2 = 0.5\n",
        "print(\n",
        "    \"Balanced accuracy for model1: \", balanced_accuracy_score(real_labels, model1_res)\n",
        ")\n",
        "# Balanced accuracy for model2 = (12/16+4/5)/2 = 0.775\n",
        "print(\n",
        "    \"Balanced accuracy for model2: \", balanced_accuracy_score(real_labels, model2_res)\n",
        ")"
      ]
    },
    {
      "cell_type": "markdown",
      "metadata": {
        "id": "pisS8lW51dMf"
      },
      "source": [
        "**Всегда проверяйте**, являются ли ваши данные сбалансированными и могут ли выбранные для оценки модели метрики работать с несбалансированными классами."
      ]
    },
    {
      "cell_type": "markdown",
      "metadata": {
        "id": "lh-M-Ma31dMf"
      },
      "source": [
        "Загрузим датасет с различными биомаркерами пациентов с меланомой (обезличенный, информации о пациентах нет) и переменной, содержащей 1, если пациент ответил на иммунотерапию (терапия помогла пациенту и произошло уменьшение размеров опухоли), и 0, если не ответил. Количество пациентов, отвечающих на терапию, сильно меньше пациентов, которым терапия не помогает, поэтому предсказание ответа пациента на терапию на основании биомаркеров — актуальная задача в онкологии. В данном задании вам предстоит попробовать её решить."
      ]
    },
    {
      "cell_type": "code",
      "execution_count": null,
      "metadata": {
        "id": "Lk--ZKjn1dMf",
        "colab": {
          "base_uri": "https://localhost:8080/",
          "height": 324
        },
        "outputId": "c56156ef-0a44-480e-9906-6a8206410678"
      },
      "outputs": [
        {
          "output_type": "display_data",
          "data": {
            "text/plain": [
              "                  IgG1/IgA      IL21     CXCL9    CXCL10      CD8A      GZMB  \\\n",
              "sample_id                                                                      \n",
              "SAM4b0175e8db6e   3.242746  0.001280 -0.002986 -0.036366  0.096658  0.063467   \n",
              "SAMd215b503f99a   2.139016 -0.000089  0.030495  0.243958  0.161128  0.565798   \n",
              "SAM7fb6987514a4  12.614972  0.008103  0.502043  0.530783  0.388455  0.528142   \n",
              "SAMd636e3461955   6.365973 -0.000139  0.024035  0.115127  0.084455  0.200038   \n",
              "SAMc0da5d48686d   2.764089  0.006107  0.015533  0.135470  0.067686  0.053499   \n",
              "\n",
              "                    KLRC2     KLRC3     KLRC4      GNLY       TGFB1  Response  \n",
              "sample_id                                                                      \n",
              "SAM4b0175e8db6e  0.502058 -0.083862  0.053659  0.091930   61.934119         0  \n",
              "SAMd215b503f99a -0.203495 -0.026902 -0.035405  0.030125  103.265837         0  \n",
              "SAM7fb6987514a4 -0.156209  0.001147 -0.028690  0.260703   53.552817         0  \n",
              "SAMd636e3461955 -0.387373 -0.057837  0.045938  0.073192   80.837318         0  \n",
              "SAMc0da5d48686d -0.116040  0.063714  0.088201  0.082940  114.422926         0  "
            ],
            "text/html": [
              "\n",
              "  <div id=\"df-80eb510d-771e-4a2a-b914-f780b0eb24ae\" class=\"colab-df-container\">\n",
              "    <div>\n",
              "<style scoped>\n",
              "    .dataframe tbody tr th:only-of-type {\n",
              "        vertical-align: middle;\n",
              "    }\n",
              "\n",
              "    .dataframe tbody tr th {\n",
              "        vertical-align: top;\n",
              "    }\n",
              "\n",
              "    .dataframe thead th {\n",
              "        text-align: right;\n",
              "    }\n",
              "</style>\n",
              "<table border=\"1\" class=\"dataframe\">\n",
              "  <thead>\n",
              "    <tr style=\"text-align: right;\">\n",
              "      <th></th>\n",
              "      <th>IgG1/IgA</th>\n",
              "      <th>IL21</th>\n",
              "      <th>CXCL9</th>\n",
              "      <th>CXCL10</th>\n",
              "      <th>CD8A</th>\n",
              "      <th>GZMB</th>\n",
              "      <th>KLRC2</th>\n",
              "      <th>KLRC3</th>\n",
              "      <th>KLRC4</th>\n",
              "      <th>GNLY</th>\n",
              "      <th>TGFB1</th>\n",
              "      <th>Response</th>\n",
              "    </tr>\n",
              "    <tr>\n",
              "      <th>sample_id</th>\n",
              "      <th></th>\n",
              "      <th></th>\n",
              "      <th></th>\n",
              "      <th></th>\n",
              "      <th></th>\n",
              "      <th></th>\n",
              "      <th></th>\n",
              "      <th></th>\n",
              "      <th></th>\n",
              "      <th></th>\n",
              "      <th></th>\n",
              "      <th></th>\n",
              "    </tr>\n",
              "  </thead>\n",
              "  <tbody>\n",
              "    <tr>\n",
              "      <th>SAM4b0175e8db6e</th>\n",
              "      <td>3.242746</td>\n",
              "      <td>0.001280</td>\n",
              "      <td>-0.002986</td>\n",
              "      <td>-0.036366</td>\n",
              "      <td>0.096658</td>\n",
              "      <td>0.063467</td>\n",
              "      <td>0.502058</td>\n",
              "      <td>-0.083862</td>\n",
              "      <td>0.053659</td>\n",
              "      <td>0.091930</td>\n",
              "      <td>61.934119</td>\n",
              "      <td>0</td>\n",
              "    </tr>\n",
              "    <tr>\n",
              "      <th>SAMd215b503f99a</th>\n",
              "      <td>2.139016</td>\n",
              "      <td>-0.000089</td>\n",
              "      <td>0.030495</td>\n",
              "      <td>0.243958</td>\n",
              "      <td>0.161128</td>\n",
              "      <td>0.565798</td>\n",
              "      <td>-0.203495</td>\n",
              "      <td>-0.026902</td>\n",
              "      <td>-0.035405</td>\n",
              "      <td>0.030125</td>\n",
              "      <td>103.265837</td>\n",
              "      <td>0</td>\n",
              "    </tr>\n",
              "    <tr>\n",
              "      <th>SAM7fb6987514a4</th>\n",
              "      <td>12.614972</td>\n",
              "      <td>0.008103</td>\n",
              "      <td>0.502043</td>\n",
              "      <td>0.530783</td>\n",
              "      <td>0.388455</td>\n",
              "      <td>0.528142</td>\n",
              "      <td>-0.156209</td>\n",
              "      <td>0.001147</td>\n",
              "      <td>-0.028690</td>\n",
              "      <td>0.260703</td>\n",
              "      <td>53.552817</td>\n",
              "      <td>0</td>\n",
              "    </tr>\n",
              "    <tr>\n",
              "      <th>SAMd636e3461955</th>\n",
              "      <td>6.365973</td>\n",
              "      <td>-0.000139</td>\n",
              "      <td>0.024035</td>\n",
              "      <td>0.115127</td>\n",
              "      <td>0.084455</td>\n",
              "      <td>0.200038</td>\n",
              "      <td>-0.387373</td>\n",
              "      <td>-0.057837</td>\n",
              "      <td>0.045938</td>\n",
              "      <td>0.073192</td>\n",
              "      <td>80.837318</td>\n",
              "      <td>0</td>\n",
              "    </tr>\n",
              "    <tr>\n",
              "      <th>SAMc0da5d48686d</th>\n",
              "      <td>2.764089</td>\n",
              "      <td>0.006107</td>\n",
              "      <td>0.015533</td>\n",
              "      <td>0.135470</td>\n",
              "      <td>0.067686</td>\n",
              "      <td>0.053499</td>\n",
              "      <td>-0.116040</td>\n",
              "      <td>0.063714</td>\n",
              "      <td>0.088201</td>\n",
              "      <td>0.082940</td>\n",
              "      <td>114.422926</td>\n",
              "      <td>0</td>\n",
              "    </tr>\n",
              "  </tbody>\n",
              "</table>\n",
              "</div>\n",
              "    <div class=\"colab-df-buttons\">\n",
              "\n",
              "  <div class=\"colab-df-container\">\n",
              "    <button class=\"colab-df-convert\" onclick=\"convertToInteractive('df-80eb510d-771e-4a2a-b914-f780b0eb24ae')\"\n",
              "            title=\"Convert this dataframe to an interactive table.\"\n",
              "            style=\"display:none;\">\n",
              "\n",
              "  <svg xmlns=\"http://www.w3.org/2000/svg\" height=\"24px\" viewBox=\"0 -960 960 960\">\n",
              "    <path d=\"M120-120v-720h720v720H120Zm60-500h600v-160H180v160Zm220 220h160v-160H400v160Zm0 220h160v-160H400v160ZM180-400h160v-160H180v160Zm440 0h160v-160H620v160ZM180-180h160v-160H180v160Zm440 0h160v-160H620v160Z\"/>\n",
              "  </svg>\n",
              "    </button>\n",
              "\n",
              "  <style>\n",
              "    .colab-df-container {\n",
              "      display:flex;\n",
              "      gap: 12px;\n",
              "    }\n",
              "\n",
              "    .colab-df-convert {\n",
              "      background-color: #E8F0FE;\n",
              "      border: none;\n",
              "      border-radius: 50%;\n",
              "      cursor: pointer;\n",
              "      display: none;\n",
              "      fill: #1967D2;\n",
              "      height: 32px;\n",
              "      padding: 0 0 0 0;\n",
              "      width: 32px;\n",
              "    }\n",
              "\n",
              "    .colab-df-convert:hover {\n",
              "      background-color: #E2EBFA;\n",
              "      box-shadow: 0px 1px 2px rgba(60, 64, 67, 0.3), 0px 1px 3px 1px rgba(60, 64, 67, 0.15);\n",
              "      fill: #174EA6;\n",
              "    }\n",
              "\n",
              "    .colab-df-buttons div {\n",
              "      margin-bottom: 4px;\n",
              "    }\n",
              "\n",
              "    [theme=dark] .colab-df-convert {\n",
              "      background-color: #3B4455;\n",
              "      fill: #D2E3FC;\n",
              "    }\n",
              "\n",
              "    [theme=dark] .colab-df-convert:hover {\n",
              "      background-color: #434B5C;\n",
              "      box-shadow: 0px 1px 3px 1px rgba(0, 0, 0, 0.15);\n",
              "      filter: drop-shadow(0px 1px 2px rgba(0, 0, 0, 0.3));\n",
              "      fill: #FFFFFF;\n",
              "    }\n",
              "  </style>\n",
              "\n",
              "    <script>\n",
              "      const buttonEl =\n",
              "        document.querySelector('#df-80eb510d-771e-4a2a-b914-f780b0eb24ae button.colab-df-convert');\n",
              "      buttonEl.style.display =\n",
              "        google.colab.kernel.accessAllowed ? 'block' : 'none';\n",
              "\n",
              "      async function convertToInteractive(key) {\n",
              "        const element = document.querySelector('#df-80eb510d-771e-4a2a-b914-f780b0eb24ae');\n",
              "        const dataTable =\n",
              "          await google.colab.kernel.invokeFunction('convertToInteractive',\n",
              "                                                    [key], {});\n",
              "        if (!dataTable) return;\n",
              "\n",
              "        const docLinkHtml = 'Like what you see? Visit the ' +\n",
              "          '<a target=\"_blank\" href=https://colab.research.google.com/notebooks/data_table.ipynb>data table notebook</a>'\n",
              "          + ' to learn more about interactive tables.';\n",
              "        element.innerHTML = '';\n",
              "        dataTable['output_type'] = 'display_data';\n",
              "        await google.colab.output.renderOutput(dataTable, element);\n",
              "        const docLink = document.createElement('div');\n",
              "        docLink.innerHTML = docLinkHtml;\n",
              "        element.appendChild(docLink);\n",
              "      }\n",
              "    </script>\n",
              "  </div>\n",
              "\n",
              "\n",
              "<div id=\"df-96b2f067-9bcb-4f8b-87e9-f4c98f1dd901\">\n",
              "  <button class=\"colab-df-quickchart\" onclick=\"quickchart('df-96b2f067-9bcb-4f8b-87e9-f4c98f1dd901')\"\n",
              "            title=\"Suggest charts.\"\n",
              "            style=\"display:none;\">\n",
              "\n",
              "<svg xmlns=\"http://www.w3.org/2000/svg\" height=\"24px\"viewBox=\"0 0 24 24\"\n",
              "     width=\"24px\">\n",
              "    <g>\n",
              "        <path d=\"M19 3H5c-1.1 0-2 .9-2 2v14c0 1.1.9 2 2 2h14c1.1 0 2-.9 2-2V5c0-1.1-.9-2-2-2zM9 17H7v-7h2v7zm4 0h-2V7h2v10zm4 0h-2v-4h2v4z\"/>\n",
              "    </g>\n",
              "</svg>\n",
              "  </button>\n",
              "\n",
              "<style>\n",
              "  .colab-df-quickchart {\n",
              "      --bg-color: #E8F0FE;\n",
              "      --fill-color: #1967D2;\n",
              "      --hover-bg-color: #E2EBFA;\n",
              "      --hover-fill-color: #174EA6;\n",
              "      --disabled-fill-color: #AAA;\n",
              "      --disabled-bg-color: #DDD;\n",
              "  }\n",
              "\n",
              "  [theme=dark] .colab-df-quickchart {\n",
              "      --bg-color: #3B4455;\n",
              "      --fill-color: #D2E3FC;\n",
              "      --hover-bg-color: #434B5C;\n",
              "      --hover-fill-color: #FFFFFF;\n",
              "      --disabled-bg-color: #3B4455;\n",
              "      --disabled-fill-color: #666;\n",
              "  }\n",
              "\n",
              "  .colab-df-quickchart {\n",
              "    background-color: var(--bg-color);\n",
              "    border: none;\n",
              "    border-radius: 50%;\n",
              "    cursor: pointer;\n",
              "    display: none;\n",
              "    fill: var(--fill-color);\n",
              "    height: 32px;\n",
              "    padding: 0;\n",
              "    width: 32px;\n",
              "  }\n",
              "\n",
              "  .colab-df-quickchart:hover {\n",
              "    background-color: var(--hover-bg-color);\n",
              "    box-shadow: 0 1px 2px rgba(60, 64, 67, 0.3), 0 1px 3px 1px rgba(60, 64, 67, 0.15);\n",
              "    fill: var(--button-hover-fill-color);\n",
              "  }\n",
              "\n",
              "  .colab-df-quickchart-complete:disabled,\n",
              "  .colab-df-quickchart-complete:disabled:hover {\n",
              "    background-color: var(--disabled-bg-color);\n",
              "    fill: var(--disabled-fill-color);\n",
              "    box-shadow: none;\n",
              "  }\n",
              "\n",
              "  .colab-df-spinner {\n",
              "    border: 2px solid var(--fill-color);\n",
              "    border-color: transparent;\n",
              "    border-bottom-color: var(--fill-color);\n",
              "    animation:\n",
              "      spin 1s steps(1) infinite;\n",
              "  }\n",
              "\n",
              "  @keyframes spin {\n",
              "    0% {\n",
              "      border-color: transparent;\n",
              "      border-bottom-color: var(--fill-color);\n",
              "      border-left-color: var(--fill-color);\n",
              "    }\n",
              "    20% {\n",
              "      border-color: transparent;\n",
              "      border-left-color: var(--fill-color);\n",
              "      border-top-color: var(--fill-color);\n",
              "    }\n",
              "    30% {\n",
              "      border-color: transparent;\n",
              "      border-left-color: var(--fill-color);\n",
              "      border-top-color: var(--fill-color);\n",
              "      border-right-color: var(--fill-color);\n",
              "    }\n",
              "    40% {\n",
              "      border-color: transparent;\n",
              "      border-right-color: var(--fill-color);\n",
              "      border-top-color: var(--fill-color);\n",
              "    }\n",
              "    60% {\n",
              "      border-color: transparent;\n",
              "      border-right-color: var(--fill-color);\n",
              "    }\n",
              "    80% {\n",
              "      border-color: transparent;\n",
              "      border-right-color: var(--fill-color);\n",
              "      border-bottom-color: var(--fill-color);\n",
              "    }\n",
              "    90% {\n",
              "      border-color: transparent;\n",
              "      border-bottom-color: var(--fill-color);\n",
              "    }\n",
              "  }\n",
              "</style>\n",
              "\n",
              "  <script>\n",
              "    async function quickchart(key) {\n",
              "      const quickchartButtonEl =\n",
              "        document.querySelector('#' + key + ' button');\n",
              "      quickchartButtonEl.disabled = true;  // To prevent multiple clicks.\n",
              "      quickchartButtonEl.classList.add('colab-df-spinner');\n",
              "      try {\n",
              "        const charts = await google.colab.kernel.invokeFunction(\n",
              "            'suggestCharts', [key], {});\n",
              "      } catch (error) {\n",
              "        console.error('Error during call to suggestCharts:', error);\n",
              "      }\n",
              "      quickchartButtonEl.classList.remove('colab-df-spinner');\n",
              "      quickchartButtonEl.classList.add('colab-df-quickchart-complete');\n",
              "    }\n",
              "    (() => {\n",
              "      let quickchartButtonEl =\n",
              "        document.querySelector('#df-96b2f067-9bcb-4f8b-87e9-f4c98f1dd901 button');\n",
              "      quickchartButtonEl.style.display =\n",
              "        google.colab.kernel.accessAllowed ? 'block' : 'none';\n",
              "    })();\n",
              "  </script>\n",
              "</div>\n",
              "    </div>\n",
              "  </div>\n"
            ]
          },
          "metadata": {}
        },
        {
          "output_type": "stream",
          "name": "stdout",
          "text": [
            "\n",
            "Number of patients responded to immunotherapy:\n"
          ]
        },
        {
          "output_type": "display_data",
          "data": {
            "text/plain": [
              "0    228\n",
              "1     37\n",
              "Name: Response, dtype: int64"
            ]
          },
          "metadata": {}
        }
      ],
      "source": [
        "cancer = pd.read_table(\n",
        "    \"https://edunet.kea.su/repo/EduNet-web_dependencies/datasets/Cancer_dataset_2.tsv\",\n",
        "    index_col=\"sample_id\",\n",
        ")\n",
        "display(cancer.head())\n",
        "\n",
        "# split the data on features (x) and dependant variable (y)\n",
        "y = cancer[\"Response\"]\n",
        "x = cancer.drop(\"Response\", axis=1)\n",
        "print(\"\\nNumber of patients responded to immunotherapy:\")\n",
        "display(y.value_counts())"
      ]
    },
    {
      "cell_type": "markdown",
      "metadata": {
        "id": "tPWTwBcJ1dMf"
      },
      "source": [
        "В данном случае имеет место несбалансированность классов в наборе данных: пациентов, ответивших на терапию, гораздо меньше.\n",
        "\n",
        "Есть два способа работы с несбалансированными по классам данными. Первый способ &mdash; это получение стратифицированных выборок. Необходимо иметь одинаковую долю образцов каждого класса в тренировочной и тестовой выборках, иначе возникает риск получения смещённых выборок, что приводит к некорректной оценке качества модели. Второй способ &mdash; это использование специальных алгоритмов, учитывающих несбалансированность классов.\n",
        "\n",
        "\n",
        "В данном задании вам нужно продемонстрировать эффективность различных подходов  работы с несбалансированными выборками. Для этого вы будете использовать три модели, представленные ниже:\n",
        "\n",
        "1. [`RandomForestClassifier`](https://scikit-learn.org/stable/modules/generated/sklearn.ensemble.RandomForestClassifier.html), библиотека sklearn\n",
        "2. [`RandomForestClassifier` с балансировкой классов](https://scikit-learn.org/stable/modules/generated/sklearn.ensemble.RandomForestClassifier.html), библиотека sklearn — меняет стандартный вес каждого класса, равный 1, на долю класса во входных данных (см. `class_weight`).\n",
        "3. [`BalancedRandomForestClassifier`](https://imbalanced-learn.org/stable/references/generated/imblearn.ensemble.BalancedRandomForestClassifier.html), библиотека imblearn — сэмплирует псевдовыборки таким образом, что в каждой псевдовыборке, которая подается на вход модели, баланс классов оказывается \"выправлен\".\n",
        "\n",
        "Оцените эффективность подходов с помощью кросс-валидации, производя разбиение с учетом репрезентации классов и без него. В качестве метрики, отображающей эффективность модели, используйте значения `accuracy` и `balanced_accuracy`. Проинтерпретируйте результаты."
      ]
    },
    {
      "cell_type": "code",
      "execution_count": null,
      "metadata": {
        "id": "6_hzAOwP1dMf"
      },
      "outputs": [],
      "source": [
        "?imblearn.ensemble.BalancedRandomForestClassifier"
      ]
    },
    {
      "cell_type": "code",
      "execution_count": null,
      "metadata": {
        "id": "8YylE48K1dMg"
      },
      "outputs": [],
      "source": [
        "?cross_validate"
      ]
    },
    {
      "cell_type": "markdown",
      "metadata": {
        "id": "lKE-PQEm1dMg"
      },
      "source": [
        "Объекты, принадлежащие разным классам, распределены неравномерно. Для адекватной работы cross_validate нужно перемешать данные. Для этого используйте флаг `shuffle=True`, применяя `KFold` и `StratifiedKFold` (см. параметр `cv` в функции cross_validate)."
      ]
    },
    {
      "cell_type": "code",
      "source": [
        "from sklearn.model_selection import cross_val_score, StratifiedKFold\n",
        "\n",
        "print('clf = RandomForestClassifier\\n')\n",
        "\n",
        "np.random.seed(42)\n",
        "\n",
        "x_train, x_test, y_train, y_test = train_test_split(\n",
        "    x, y, train_size=0.8, random_state=42, shuffle=True\n",
        ")\n",
        "\n",
        "cv = StratifiedKFold(n_splits=4)\n",
        "rfc = RandomForestClassifier()\n",
        "balanced_accuracy = cross_val_score(rfc, x_train, y_train, cv=cv, scoring = 'balanced_accuracy')\n",
        "accuracy = cross_val_score(rfc, x_train, y_train, cv=cv, scoring = 'accuracy')\n",
        "\n",
        "print('Split with stratify = False')\n",
        "print(f'accuracy = {accuracy.round(2)}')\n",
        "print(f'balanced_accuracy = {balanced_accuracy.round(2)}\\n')\n",
        "\n",
        "# Your code here\n",
        "from sklearn.model_selection import cross_val_score, StratifiedKFold\n",
        "\n",
        "np.random.seed(42)\n",
        "\n",
        "x_train, x_test, y_train, y_test = train_test_split(\n",
        "    x, y, train_size=0.8, stratify=y, random_state=42,  shuffle=True\n",
        ")\n",
        "cv = StratifiedKFold(n_splits=4)\n",
        "rfc = RandomForestClassifier()\n",
        "balanced_accuracy = cross_val_score(rfc, x_train, y_train, cv=cv, scoring = 'balanced_accuracy')\n",
        "accuracy = cross_val_score(rfc, x_train, y_train, cv=cv, scoring = 'accuracy')\n",
        "\n",
        "print('Split with stratify = True')\n",
        "print(f'accuracy = {accuracy.round(2)}')\n",
        "print(f'balanced_accuracy = {balanced_accuracy.round(2)}\\n')"
      ],
      "metadata": {
        "colab": {
          "base_uri": "https://localhost:8080/"
        },
        "id": "84ZvVmHmp6VF",
        "outputId": "9bdc148e-556d-42a0-8e8d-82802e74d442"
      },
      "execution_count": null,
      "outputs": [
        {
          "output_type": "stream",
          "name": "stdout",
          "text": [
            "clf = RandomForestClassifier\n",
            "\n",
            "Split with stratify = False\n",
            "accuracy = [0.85 0.83 0.85 0.87]\n",
            "balanced_accuracy = [0.55 0.55 0.5  0.55]\n",
            "\n",
            "Split with stratify = True\n",
            "accuracy = [0.87 0.85 0.85 0.83]\n",
            "balanced_accuracy = [0.5  0.49 0.55 0.6 ]\n",
            "\n"
          ]
        }
      ]
    },
    {
      "cell_type": "code",
      "execution_count": null,
      "metadata": {
        "id": "oCUx7n0P1dMg",
        "colab": {
          "base_uri": "https://localhost:8080/"
        },
        "outputId": "d682b5d5-5d71-42a5-92f3-73034f0146fc"
      },
      "outputs": [
        {
          "output_type": "stream",
          "name": "stdout",
          "text": [
            "clf = BalancedRandomForestClassifier\n",
            "\n"
          ]
        },
        {
          "output_type": "stream",
          "name": "stderr",
          "text": [
            "/usr/local/lib/python3.10/dist-packages/imblearn/ensemble/_forest.py:546: FutureWarning: The default of `sampling_strategy` will change from `'auto'` to `'all'` in version 0.13. This change will follow the implementation proposed in the original paper. Set to `'all'` to silence this warning and adopt the future behaviour.\n",
            "  warn(\n",
            "/usr/local/lib/python3.10/dist-packages/imblearn/ensemble/_forest.py:558: FutureWarning: The default of `replacement` will change from `False` to `True` in version 0.13. This change will follow the implementation proposed in the original paper. Set to `True` to silence this warning and adopt the future behaviour.\n",
            "  warn(\n",
            "/usr/local/lib/python3.10/dist-packages/imblearn/ensemble/_forest.py:546: FutureWarning: The default of `sampling_strategy` will change from `'auto'` to `'all'` in version 0.13. This change will follow the implementation proposed in the original paper. Set to `'all'` to silence this warning and adopt the future behaviour.\n",
            "  warn(\n",
            "/usr/local/lib/python3.10/dist-packages/imblearn/ensemble/_forest.py:558: FutureWarning: The default of `replacement` will change from `False` to `True` in version 0.13. This change will follow the implementation proposed in the original paper. Set to `True` to silence this warning and adopt the future behaviour.\n",
            "  warn(\n",
            "/usr/local/lib/python3.10/dist-packages/imblearn/ensemble/_forest.py:546: FutureWarning: The default of `sampling_strategy` will change from `'auto'` to `'all'` in version 0.13. This change will follow the implementation proposed in the original paper. Set to `'all'` to silence this warning and adopt the future behaviour.\n",
            "  warn(\n",
            "/usr/local/lib/python3.10/dist-packages/imblearn/ensemble/_forest.py:558: FutureWarning: The default of `replacement` will change from `False` to `True` in version 0.13. This change will follow the implementation proposed in the original paper. Set to `True` to silence this warning and adopt the future behaviour.\n",
            "  warn(\n",
            "/usr/local/lib/python3.10/dist-packages/imblearn/ensemble/_forest.py:546: FutureWarning: The default of `sampling_strategy` will change from `'auto'` to `'all'` in version 0.13. This change will follow the implementation proposed in the original paper. Set to `'all'` to silence this warning and adopt the future behaviour.\n",
            "  warn(\n",
            "/usr/local/lib/python3.10/dist-packages/imblearn/ensemble/_forest.py:558: FutureWarning: The default of `replacement` will change from `False` to `True` in version 0.13. This change will follow the implementation proposed in the original paper. Set to `True` to silence this warning and adopt the future behaviour.\n",
            "  warn(\n",
            "/usr/local/lib/python3.10/dist-packages/imblearn/ensemble/_forest.py:546: FutureWarning: The default of `sampling_strategy` will change from `'auto'` to `'all'` in version 0.13. This change will follow the implementation proposed in the original paper. Set to `'all'` to silence this warning and adopt the future behaviour.\n",
            "  warn(\n",
            "/usr/local/lib/python3.10/dist-packages/imblearn/ensemble/_forest.py:558: FutureWarning: The default of `replacement` will change from `False` to `True` in version 0.13. This change will follow the implementation proposed in the original paper. Set to `True` to silence this warning and adopt the future behaviour.\n",
            "  warn(\n",
            "/usr/local/lib/python3.10/dist-packages/imblearn/ensemble/_forest.py:546: FutureWarning: The default of `sampling_strategy` will change from `'auto'` to `'all'` in version 0.13. This change will follow the implementation proposed in the original paper. Set to `'all'` to silence this warning and adopt the future behaviour.\n",
            "  warn(\n",
            "/usr/local/lib/python3.10/dist-packages/imblearn/ensemble/_forest.py:558: FutureWarning: The default of `replacement` will change from `False` to `True` in version 0.13. This change will follow the implementation proposed in the original paper. Set to `True` to silence this warning and adopt the future behaviour.\n",
            "  warn(\n",
            "/usr/local/lib/python3.10/dist-packages/imblearn/ensemble/_forest.py:546: FutureWarning: The default of `sampling_strategy` will change from `'auto'` to `'all'` in version 0.13. This change will follow the implementation proposed in the original paper. Set to `'all'` to silence this warning and adopt the future behaviour.\n",
            "  warn(\n",
            "/usr/local/lib/python3.10/dist-packages/imblearn/ensemble/_forest.py:558: FutureWarning: The default of `replacement` will change from `False` to `True` in version 0.13. This change will follow the implementation proposed in the original paper. Set to `True` to silence this warning and adopt the future behaviour.\n",
            "  warn(\n",
            "/usr/local/lib/python3.10/dist-packages/imblearn/ensemble/_forest.py:546: FutureWarning: The default of `sampling_strategy` will change from `'auto'` to `'all'` in version 0.13. This change will follow the implementation proposed in the original paper. Set to `'all'` to silence this warning and adopt the future behaviour.\n",
            "  warn(\n",
            "/usr/local/lib/python3.10/dist-packages/imblearn/ensemble/_forest.py:558: FutureWarning: The default of `replacement` will change from `False` to `True` in version 0.13. This change will follow the implementation proposed in the original paper. Set to `True` to silence this warning and adopt the future behaviour.\n",
            "  warn(\n"
          ]
        },
        {
          "output_type": "stream",
          "name": "stdout",
          "text": [
            "Split with stratify = False\n",
            "accuracy = [0.74 0.72 0.64 0.72]\n",
            "balanced_accuracy = [0.66 0.74 0.65 0.61]\n",
            "\n"
          ]
        },
        {
          "output_type": "stream",
          "name": "stderr",
          "text": [
            "/usr/local/lib/python3.10/dist-packages/imblearn/ensemble/_forest.py:546: FutureWarning: The default of `sampling_strategy` will change from `'auto'` to `'all'` in version 0.13. This change will follow the implementation proposed in the original paper. Set to `'all'` to silence this warning and adopt the future behaviour.\n",
            "  warn(\n",
            "/usr/local/lib/python3.10/dist-packages/imblearn/ensemble/_forest.py:558: FutureWarning: The default of `replacement` will change from `False` to `True` in version 0.13. This change will follow the implementation proposed in the original paper. Set to `True` to silence this warning and adopt the future behaviour.\n",
            "  warn(\n",
            "/usr/local/lib/python3.10/dist-packages/imblearn/ensemble/_forest.py:546: FutureWarning: The default of `sampling_strategy` will change from `'auto'` to `'all'` in version 0.13. This change will follow the implementation proposed in the original paper. Set to `'all'` to silence this warning and adopt the future behaviour.\n",
            "  warn(\n",
            "/usr/local/lib/python3.10/dist-packages/imblearn/ensemble/_forest.py:558: FutureWarning: The default of `replacement` will change from `False` to `True` in version 0.13. This change will follow the implementation proposed in the original paper. Set to `True` to silence this warning and adopt the future behaviour.\n",
            "  warn(\n",
            "/usr/local/lib/python3.10/dist-packages/imblearn/ensemble/_forest.py:546: FutureWarning: The default of `sampling_strategy` will change from `'auto'` to `'all'` in version 0.13. This change will follow the implementation proposed in the original paper. Set to `'all'` to silence this warning and adopt the future behaviour.\n",
            "  warn(\n",
            "/usr/local/lib/python3.10/dist-packages/imblearn/ensemble/_forest.py:558: FutureWarning: The default of `replacement` will change from `False` to `True` in version 0.13. This change will follow the implementation proposed in the original paper. Set to `True` to silence this warning and adopt the future behaviour.\n",
            "  warn(\n",
            "/usr/local/lib/python3.10/dist-packages/imblearn/ensemble/_forest.py:546: FutureWarning: The default of `sampling_strategy` will change from `'auto'` to `'all'` in version 0.13. This change will follow the implementation proposed in the original paper. Set to `'all'` to silence this warning and adopt the future behaviour.\n",
            "  warn(\n",
            "/usr/local/lib/python3.10/dist-packages/imblearn/ensemble/_forest.py:558: FutureWarning: The default of `replacement` will change from `False` to `True` in version 0.13. This change will follow the implementation proposed in the original paper. Set to `True` to silence this warning and adopt the future behaviour.\n",
            "  warn(\n",
            "/usr/local/lib/python3.10/dist-packages/imblearn/ensemble/_forest.py:546: FutureWarning: The default of `sampling_strategy` will change from `'auto'` to `'all'` in version 0.13. This change will follow the implementation proposed in the original paper. Set to `'all'` to silence this warning and adopt the future behaviour.\n",
            "  warn(\n",
            "/usr/local/lib/python3.10/dist-packages/imblearn/ensemble/_forest.py:558: FutureWarning: The default of `replacement` will change from `False` to `True` in version 0.13. This change will follow the implementation proposed in the original paper. Set to `True` to silence this warning and adopt the future behaviour.\n",
            "  warn(\n",
            "/usr/local/lib/python3.10/dist-packages/imblearn/ensemble/_forest.py:546: FutureWarning: The default of `sampling_strategy` will change from `'auto'` to `'all'` in version 0.13. This change will follow the implementation proposed in the original paper. Set to `'all'` to silence this warning and adopt the future behaviour.\n",
            "  warn(\n",
            "/usr/local/lib/python3.10/dist-packages/imblearn/ensemble/_forest.py:558: FutureWarning: The default of `replacement` will change from `False` to `True` in version 0.13. This change will follow the implementation proposed in the original paper. Set to `True` to silence this warning and adopt the future behaviour.\n",
            "  warn(\n",
            "/usr/local/lib/python3.10/dist-packages/imblearn/ensemble/_forest.py:546: FutureWarning: The default of `sampling_strategy` will change from `'auto'` to `'all'` in version 0.13. This change will follow the implementation proposed in the original paper. Set to `'all'` to silence this warning and adopt the future behaviour.\n",
            "  warn(\n",
            "/usr/local/lib/python3.10/dist-packages/imblearn/ensemble/_forest.py:558: FutureWarning: The default of `replacement` will change from `False` to `True` in version 0.13. This change will follow the implementation proposed in the original paper. Set to `True` to silence this warning and adopt the future behaviour.\n",
            "  warn(\n",
            "/usr/local/lib/python3.10/dist-packages/imblearn/ensemble/_forest.py:546: FutureWarning: The default of `sampling_strategy` will change from `'auto'` to `'all'` in version 0.13. This change will follow the implementation proposed in the original paper. Set to `'all'` to silence this warning and adopt the future behaviour.\n",
            "  warn(\n",
            "/usr/local/lib/python3.10/dist-packages/imblearn/ensemble/_forest.py:558: FutureWarning: The default of `replacement` will change from `False` to `True` in version 0.13. This change will follow the implementation proposed in the original paper. Set to `True` to silence this warning and adopt the future behaviour.\n",
            "  warn(\n"
          ]
        },
        {
          "output_type": "stream",
          "name": "stdout",
          "text": [
            "Split with stratify = True\n",
            "accuracy = [0.75 0.64 0.53 0.6 ]\n",
            "balanced_accuracy = [0.63 0.54 0.54 0.73]\n"
          ]
        }
      ],
      "source": [
        "from sklearn.model_selection import cross_val_score, StratifiedKFold\n",
        "from imblearn.ensemble import BalancedRandomForestClassifier\n",
        "\n",
        "print('clf = BalancedRandomForestClassifier\\n')\n",
        "\n",
        "np.random.seed(42)\n",
        "\n",
        "x_train, x_test, y_train, y_test = train_test_split(\n",
        "    x, y, train_size=0.8, random_state=42, shuffle=True\n",
        ")\n",
        "\n",
        "cv = StratifiedKFold(n_splits=4)\n",
        "class_weight = dict({\n",
        "                0: y_train.to_list().count(0) / y.shape[0],\n",
        "                1: y_train.to_list().count(1) / y.shape[0]\n",
        "                })\n",
        "rfc = BalancedRandomForestClassifier()\n",
        "balanced_accuracy = cross_val_score(rfc, x_train, y_train, cv=cv, scoring = 'balanced_accuracy')\n",
        "accuracy = cross_val_score(rfc, x_train, y_train, cv=cv, scoring = 'accuracy')\n",
        "\n",
        "print('Split with stratify = False')\n",
        "print(f'accuracy = {accuracy.round(2)}')\n",
        "print(f'balanced_accuracy = {balanced_accuracy.round(2)}\\n')\n",
        "\n",
        "# Your code here\n",
        "from sklearn.model_selection import cross_val_score, StratifiedKFold\n",
        "\n",
        "np.random.seed(42)\n",
        "\n",
        "x_train, x_test, y_train, y_test = train_test_split(\n",
        "    x, y, train_size=0.8, stratify=y, random_state=42,  shuffle=True\n",
        ")\n",
        "cv = StratifiedKFold(n_splits=4)\n",
        "rfc = BalancedRandomForestClassifier()\n",
        "balanced_accuracy = cross_val_score(rfc, x_train, y_train, cv=cv, scoring = 'balanced_accuracy')\n",
        "accuracy = cross_val_score(rfc, x_train, y_train, cv=cv, scoring = 'accuracy')\n",
        "\n",
        "print('Split with stratify = True')\n",
        "print(f'accuracy = {accuracy.round(2)}')\n",
        "print(f'balanced_accuracy = {balanced_accuracy.round(2)}')"
      ]
    },
    {
      "cell_type": "code",
      "source": [
        "from sklearn.model_selection import cross_val_score, StratifiedKFold\n",
        "\n",
        "print('clf = RandomForestClassifier (balanced)\\n')\n",
        "\n",
        "np.random.seed(42)\n",
        "\n",
        "x_train, x_test, y_train, y_test = train_test_split(\n",
        "    x, y, train_size=0.8, random_state=42, shuffle=True\n",
        ")\n",
        "\n",
        "cv = StratifiedKFold(n_splits=4)\n",
        "class_weight = dict({\n",
        "                0: y_train.to_list().count(0) / y.shape[0],\n",
        "                1: y_train.to_list().count(1) / y.shape[0]\n",
        "                })\n",
        "rfc = RandomForestClassifier(class_weight = class_weight)\n",
        "balanced_accuracy = cross_val_score(rfc, x_train, y_train, cv=cv, scoring = 'balanced_accuracy')\n",
        "accuracy = cross_val_score(rfc, x_train, y_train, cv=cv, scoring = 'accuracy')\n",
        "\n",
        "print('Split with stratify = False')\n",
        "print(f'accuracy = {accuracy.round(2)}')\n",
        "print(f'balanced_accuracy = {balanced_accuracy.round(2)}\\n')\n",
        "\n",
        "# Your code here\n",
        "from sklearn.model_selection import cross_val_score, StratifiedKFold\n",
        "\n",
        "np.random.seed(42)\n",
        "\n",
        "x_train, x_test, y_train, y_test = train_test_split(\n",
        "    x, y, train_size=0.8, stratify=y, random_state=42,  shuffle=True\n",
        ")\n",
        "cv = StratifiedKFold(n_splits=4)\n",
        "rfc = RandomForestClassifier(class_weight = class_weight)\n",
        "balanced_accuracy = cross_val_score(rfc, x_train, y_train, cv=cv, scoring = 'balanced_accuracy')\n",
        "accuracy = cross_val_score(rfc, x_train, y_train, cv=cv, scoring = 'accuracy')\n",
        "\n",
        "print('Split with stratify = True')\n",
        "print(f'accuracy = {accuracy.round(2)}')\n",
        "print(f'balanced_accuracy = {balanced_accuracy.round(2)}')"
      ],
      "metadata": {
        "colab": {
          "base_uri": "https://localhost:8080/"
        },
        "id": "lGDG9H93ufO8",
        "outputId": "77653935-9d1f-4206-8a38-299cab0b80d8"
      },
      "execution_count": null,
      "outputs": [
        {
          "output_type": "stream",
          "name": "stdout",
          "text": [
            "clf = RandomForestClassifier (balanced)\n",
            "\n",
            "Split with stratify = False\n",
            "accuracy = [0.83 0.83 0.87 0.83]\n",
            "balanced_accuracy = [0.55 0.57 0.55 0.55]\n",
            "\n",
            "Split with stratify = True\n",
            "accuracy = [0.83 0.83 0.87 0.81]\n",
            "balanced_accuracy = [0.49 0.49 0.48 0.57]\n"
          ]
        }
      ]
    },
    {
      "cell_type": "code",
      "source": [],
      "metadata": {
        "id": "aEd7hTajswL7"
      },
      "execution_count": null,
      "outputs": []
    },
    {
      "cell_type": "markdown",
      "metadata": {
        "id": "Q64mXnCg1dMg"
      },
      "source": [
        "Какая модель лучше справляется с дисбалансом классов?\n",
        "\n",
        "**Напишите вывод**"
      ]
    },
    {
      "cell_type": "markdown",
      "metadata": {
        "id": "FgCGmLl51dMg"
      },
      "source": [
        "## Формат результата"
      ]
    },
    {
      "cell_type": "markdown",
      "metadata": {
        "id": "kg8xTSym1dMg"
      },
      "source": [
        "Получить значения `accuracy` и `balanced_accuracy`для моделей:\n",
        "1. `RandomForestClassifier`, библиотека sklearn;\n",
        "2. `RandomForestClassifier с балансировкой классов`, библиотека sklearn;\n",
        "3. `BalancedRandomForestClassifier`, библиотека imblearn.\n"
      ]
    },
    {
      "cell_type": "markdown",
      "metadata": {
        "id": "MJCBhqCC1dMg"
      },
      "source": [
        "# Задание 3. Разные типы бустингов"
      ]
    },
    {
      "cell_type": "markdown",
      "metadata": {
        "id": "TxbAeJza1dMg"
      },
      "source": [
        "В этом задании будем использовать датасет с рейтингом блюд по некоторым характеристикам.\n",
        "\n",
        "В некоторых реализациях градиентного бустинга есть возможность использовать другой метод обучения. Например, в XGB есть тип `dart`, а в lgbm — `goss`. Это позволяет составлять более эффективные ансамбли.\n",
        "\n",
        "Используя кросс-валидацию (используйте 3 фолда), обучите модели:\n",
        "* CatboostRegressor\n",
        "* XGBRegressor\n",
        "* LGBMRegressor\n",
        "\n",
        "Сохраните модель на каждом фолде и посчитайте `mse` для тестовой выборки, используя модель с каждого фолда. Получите предсказания всех 9 моделей на тестовой выборке и усредните их. Затем посчитайте `mse` для усредненных предсказаний.\n",
        "\n",
        "Напишите выводы о полученном качестве моделей."
      ]
    },
    {
      "cell_type": "markdown",
      "metadata": {
        "id": "sCN5tlkt1dMh"
      },
      "source": [
        "Установка и импорт необходимых библиотек:"
      ]
    },
    {
      "cell_type": "code",
      "execution_count": null,
      "metadata": {
        "id": "P4Dm3aEK1dMh",
        "colab": {
          "base_uri": "https://localhost:8080/"
        },
        "outputId": "81f30716-5678-4ed7-bed4-08682e6be20c"
      },
      "outputs": [
        {
          "output_type": "stream",
          "name": "stdout",
          "text": [
            "\u001b[2K     \u001b[90m━━━━━━━━━━━━━━━━━━━━━━━━━━━━━━━━━━━━━━━━\u001b[0m \u001b[32m98.7/98.7 MB\u001b[0m \u001b[31m8.2 MB/s\u001b[0m eta \u001b[36m0:00:00\u001b[0m\n",
            "\u001b[?25h"
          ]
        }
      ],
      "source": [
        "!pip install -q catboost"
      ]
    },
    {
      "cell_type": "code",
      "execution_count": null,
      "metadata": {
        "id": "kANjBSRn1dMh"
      },
      "outputs": [],
      "source": [
        "import xgboost\n",
        "import catboost\n",
        "import lightgbm\n",
        "import numpy as np\n",
        "import pandas as pd\n",
        "from sklearn.metrics import mean_squared_error as mse\n",
        "from sklearn.model_selection import train_test_split, KFold"
      ]
    },
    {
      "cell_type": "markdown",
      "metadata": {
        "id": "40qSBiBs1dMh"
      },
      "source": [
        "Загрузка датасета:"
      ]
    },
    {
      "cell_type": "code",
      "execution_count": null,
      "metadata": {
        "id": "VjA5W1zE1dMi",
        "colab": {
          "base_uri": "https://localhost:8080/",
          "height": 424
        },
        "outputId": "ee4e0858-f5d6-43e5-ff3b-3b2eed32a683"
      },
      "outputs": [
        {
          "output_type": "execute_result",
          "data": {
            "text/plain": [
              "       calories  protein   fat  sodium  cakeweek  wasteless  rating\n",
              "0         426.0     30.0   7.0   559.0       0.0        0.0   2.500\n",
              "1         403.0     18.0  23.0  1439.0       0.0        0.0   4.375\n",
              "2         165.0      6.0   7.0   165.0       0.0        0.0   3.750\n",
              "3         547.0     20.0  32.0   452.0       0.0        0.0   3.125\n",
              "4         948.0     19.0  79.0  1042.0       0.0        0.0   4.375\n",
              "...         ...      ...   ...     ...       ...        ...     ...\n",
              "15859      28.0      2.0   2.0    64.0       0.0        0.0   3.125\n",
              "15860     671.0     22.0  28.0   583.0       0.0        0.0   4.375\n",
              "15861     563.0     31.0  38.0   652.0       0.0        0.0   4.375\n",
              "15862     631.0     45.0  24.0   517.0       0.0        0.0   4.375\n",
              "15863     560.0     73.0  10.0  3698.0       0.0        0.0   4.375\n",
              "\n",
              "[15864 rows x 7 columns]"
            ],
            "text/html": [
              "\n",
              "  <div id=\"df-eae05743-b88f-4b26-8c82-9ea3bbfa4f21\" class=\"colab-df-container\">\n",
              "    <div>\n",
              "<style scoped>\n",
              "    .dataframe tbody tr th:only-of-type {\n",
              "        vertical-align: middle;\n",
              "    }\n",
              "\n",
              "    .dataframe tbody tr th {\n",
              "        vertical-align: top;\n",
              "    }\n",
              "\n",
              "    .dataframe thead th {\n",
              "        text-align: right;\n",
              "    }\n",
              "</style>\n",
              "<table border=\"1\" class=\"dataframe\">\n",
              "  <thead>\n",
              "    <tr style=\"text-align: right;\">\n",
              "      <th></th>\n",
              "      <th>calories</th>\n",
              "      <th>protein</th>\n",
              "      <th>fat</th>\n",
              "      <th>sodium</th>\n",
              "      <th>cakeweek</th>\n",
              "      <th>wasteless</th>\n",
              "      <th>rating</th>\n",
              "    </tr>\n",
              "  </thead>\n",
              "  <tbody>\n",
              "    <tr>\n",
              "      <th>0</th>\n",
              "      <td>426.0</td>\n",
              "      <td>30.0</td>\n",
              "      <td>7.0</td>\n",
              "      <td>559.0</td>\n",
              "      <td>0.0</td>\n",
              "      <td>0.0</td>\n",
              "      <td>2.500</td>\n",
              "    </tr>\n",
              "    <tr>\n",
              "      <th>1</th>\n",
              "      <td>403.0</td>\n",
              "      <td>18.0</td>\n",
              "      <td>23.0</td>\n",
              "      <td>1439.0</td>\n",
              "      <td>0.0</td>\n",
              "      <td>0.0</td>\n",
              "      <td>4.375</td>\n",
              "    </tr>\n",
              "    <tr>\n",
              "      <th>2</th>\n",
              "      <td>165.0</td>\n",
              "      <td>6.0</td>\n",
              "      <td>7.0</td>\n",
              "      <td>165.0</td>\n",
              "      <td>0.0</td>\n",
              "      <td>0.0</td>\n",
              "      <td>3.750</td>\n",
              "    </tr>\n",
              "    <tr>\n",
              "      <th>3</th>\n",
              "      <td>547.0</td>\n",
              "      <td>20.0</td>\n",
              "      <td>32.0</td>\n",
              "      <td>452.0</td>\n",
              "      <td>0.0</td>\n",
              "      <td>0.0</td>\n",
              "      <td>3.125</td>\n",
              "    </tr>\n",
              "    <tr>\n",
              "      <th>4</th>\n",
              "      <td>948.0</td>\n",
              "      <td>19.0</td>\n",
              "      <td>79.0</td>\n",
              "      <td>1042.0</td>\n",
              "      <td>0.0</td>\n",
              "      <td>0.0</td>\n",
              "      <td>4.375</td>\n",
              "    </tr>\n",
              "    <tr>\n",
              "      <th>...</th>\n",
              "      <td>...</td>\n",
              "      <td>...</td>\n",
              "      <td>...</td>\n",
              "      <td>...</td>\n",
              "      <td>...</td>\n",
              "      <td>...</td>\n",
              "      <td>...</td>\n",
              "    </tr>\n",
              "    <tr>\n",
              "      <th>15859</th>\n",
              "      <td>28.0</td>\n",
              "      <td>2.0</td>\n",
              "      <td>2.0</td>\n",
              "      <td>64.0</td>\n",
              "      <td>0.0</td>\n",
              "      <td>0.0</td>\n",
              "      <td>3.125</td>\n",
              "    </tr>\n",
              "    <tr>\n",
              "      <th>15860</th>\n",
              "      <td>671.0</td>\n",
              "      <td>22.0</td>\n",
              "      <td>28.0</td>\n",
              "      <td>583.0</td>\n",
              "      <td>0.0</td>\n",
              "      <td>0.0</td>\n",
              "      <td>4.375</td>\n",
              "    </tr>\n",
              "    <tr>\n",
              "      <th>15861</th>\n",
              "      <td>563.0</td>\n",
              "      <td>31.0</td>\n",
              "      <td>38.0</td>\n",
              "      <td>652.0</td>\n",
              "      <td>0.0</td>\n",
              "      <td>0.0</td>\n",
              "      <td>4.375</td>\n",
              "    </tr>\n",
              "    <tr>\n",
              "      <th>15862</th>\n",
              "      <td>631.0</td>\n",
              "      <td>45.0</td>\n",
              "      <td>24.0</td>\n",
              "      <td>517.0</td>\n",
              "      <td>0.0</td>\n",
              "      <td>0.0</td>\n",
              "      <td>4.375</td>\n",
              "    </tr>\n",
              "    <tr>\n",
              "      <th>15863</th>\n",
              "      <td>560.0</td>\n",
              "      <td>73.0</td>\n",
              "      <td>10.0</td>\n",
              "      <td>3698.0</td>\n",
              "      <td>0.0</td>\n",
              "      <td>0.0</td>\n",
              "      <td>4.375</td>\n",
              "    </tr>\n",
              "  </tbody>\n",
              "</table>\n",
              "<p>15864 rows × 7 columns</p>\n",
              "</div>\n",
              "    <div class=\"colab-df-buttons\">\n",
              "\n",
              "  <div class=\"colab-df-container\">\n",
              "    <button class=\"colab-df-convert\" onclick=\"convertToInteractive('df-eae05743-b88f-4b26-8c82-9ea3bbfa4f21')\"\n",
              "            title=\"Convert this dataframe to an interactive table.\"\n",
              "            style=\"display:none;\">\n",
              "\n",
              "  <svg xmlns=\"http://www.w3.org/2000/svg\" height=\"24px\" viewBox=\"0 -960 960 960\">\n",
              "    <path d=\"M120-120v-720h720v720H120Zm60-500h600v-160H180v160Zm220 220h160v-160H400v160Zm0 220h160v-160H400v160ZM180-400h160v-160H180v160Zm440 0h160v-160H620v160ZM180-180h160v-160H180v160Zm440 0h160v-160H620v160Z\"/>\n",
              "  </svg>\n",
              "    </button>\n",
              "\n",
              "  <style>\n",
              "    .colab-df-container {\n",
              "      display:flex;\n",
              "      gap: 12px;\n",
              "    }\n",
              "\n",
              "    .colab-df-convert {\n",
              "      background-color: #E8F0FE;\n",
              "      border: none;\n",
              "      border-radius: 50%;\n",
              "      cursor: pointer;\n",
              "      display: none;\n",
              "      fill: #1967D2;\n",
              "      height: 32px;\n",
              "      padding: 0 0 0 0;\n",
              "      width: 32px;\n",
              "    }\n",
              "\n",
              "    .colab-df-convert:hover {\n",
              "      background-color: #E2EBFA;\n",
              "      box-shadow: 0px 1px 2px rgba(60, 64, 67, 0.3), 0px 1px 3px 1px rgba(60, 64, 67, 0.15);\n",
              "      fill: #174EA6;\n",
              "    }\n",
              "\n",
              "    .colab-df-buttons div {\n",
              "      margin-bottom: 4px;\n",
              "    }\n",
              "\n",
              "    [theme=dark] .colab-df-convert {\n",
              "      background-color: #3B4455;\n",
              "      fill: #D2E3FC;\n",
              "    }\n",
              "\n",
              "    [theme=dark] .colab-df-convert:hover {\n",
              "      background-color: #434B5C;\n",
              "      box-shadow: 0px 1px 3px 1px rgba(0, 0, 0, 0.15);\n",
              "      filter: drop-shadow(0px 1px 2px rgba(0, 0, 0, 0.3));\n",
              "      fill: #FFFFFF;\n",
              "    }\n",
              "  </style>\n",
              "\n",
              "    <script>\n",
              "      const buttonEl =\n",
              "        document.querySelector('#df-eae05743-b88f-4b26-8c82-9ea3bbfa4f21 button.colab-df-convert');\n",
              "      buttonEl.style.display =\n",
              "        google.colab.kernel.accessAllowed ? 'block' : 'none';\n",
              "\n",
              "      async function convertToInteractive(key) {\n",
              "        const element = document.querySelector('#df-eae05743-b88f-4b26-8c82-9ea3bbfa4f21');\n",
              "        const dataTable =\n",
              "          await google.colab.kernel.invokeFunction('convertToInteractive',\n",
              "                                                    [key], {});\n",
              "        if (!dataTable) return;\n",
              "\n",
              "        const docLinkHtml = 'Like what you see? Visit the ' +\n",
              "          '<a target=\"_blank\" href=https://colab.research.google.com/notebooks/data_table.ipynb>data table notebook</a>'\n",
              "          + ' to learn more about interactive tables.';\n",
              "        element.innerHTML = '';\n",
              "        dataTable['output_type'] = 'display_data';\n",
              "        await google.colab.output.renderOutput(dataTable, element);\n",
              "        const docLink = document.createElement('div');\n",
              "        docLink.innerHTML = docLinkHtml;\n",
              "        element.appendChild(docLink);\n",
              "      }\n",
              "    </script>\n",
              "  </div>\n",
              "\n",
              "\n",
              "<div id=\"df-fa7c7600-a475-4f9f-9a36-5e6e4994e06a\">\n",
              "  <button class=\"colab-df-quickchart\" onclick=\"quickchart('df-fa7c7600-a475-4f9f-9a36-5e6e4994e06a')\"\n",
              "            title=\"Suggest charts.\"\n",
              "            style=\"display:none;\">\n",
              "\n",
              "<svg xmlns=\"http://www.w3.org/2000/svg\" height=\"24px\"viewBox=\"0 0 24 24\"\n",
              "     width=\"24px\">\n",
              "    <g>\n",
              "        <path d=\"M19 3H5c-1.1 0-2 .9-2 2v14c0 1.1.9 2 2 2h14c1.1 0 2-.9 2-2V5c0-1.1-.9-2-2-2zM9 17H7v-7h2v7zm4 0h-2V7h2v10zm4 0h-2v-4h2v4z\"/>\n",
              "    </g>\n",
              "</svg>\n",
              "  </button>\n",
              "\n",
              "<style>\n",
              "  .colab-df-quickchart {\n",
              "      --bg-color: #E8F0FE;\n",
              "      --fill-color: #1967D2;\n",
              "      --hover-bg-color: #E2EBFA;\n",
              "      --hover-fill-color: #174EA6;\n",
              "      --disabled-fill-color: #AAA;\n",
              "      --disabled-bg-color: #DDD;\n",
              "  }\n",
              "\n",
              "  [theme=dark] .colab-df-quickchart {\n",
              "      --bg-color: #3B4455;\n",
              "      --fill-color: #D2E3FC;\n",
              "      --hover-bg-color: #434B5C;\n",
              "      --hover-fill-color: #FFFFFF;\n",
              "      --disabled-bg-color: #3B4455;\n",
              "      --disabled-fill-color: #666;\n",
              "  }\n",
              "\n",
              "  .colab-df-quickchart {\n",
              "    background-color: var(--bg-color);\n",
              "    border: none;\n",
              "    border-radius: 50%;\n",
              "    cursor: pointer;\n",
              "    display: none;\n",
              "    fill: var(--fill-color);\n",
              "    height: 32px;\n",
              "    padding: 0;\n",
              "    width: 32px;\n",
              "  }\n",
              "\n",
              "  .colab-df-quickchart:hover {\n",
              "    background-color: var(--hover-bg-color);\n",
              "    box-shadow: 0 1px 2px rgba(60, 64, 67, 0.3), 0 1px 3px 1px rgba(60, 64, 67, 0.15);\n",
              "    fill: var(--button-hover-fill-color);\n",
              "  }\n",
              "\n",
              "  .colab-df-quickchart-complete:disabled,\n",
              "  .colab-df-quickchart-complete:disabled:hover {\n",
              "    background-color: var(--disabled-bg-color);\n",
              "    fill: var(--disabled-fill-color);\n",
              "    box-shadow: none;\n",
              "  }\n",
              "\n",
              "  .colab-df-spinner {\n",
              "    border: 2px solid var(--fill-color);\n",
              "    border-color: transparent;\n",
              "    border-bottom-color: var(--fill-color);\n",
              "    animation:\n",
              "      spin 1s steps(1) infinite;\n",
              "  }\n",
              "\n",
              "  @keyframes spin {\n",
              "    0% {\n",
              "      border-color: transparent;\n",
              "      border-bottom-color: var(--fill-color);\n",
              "      border-left-color: var(--fill-color);\n",
              "    }\n",
              "    20% {\n",
              "      border-color: transparent;\n",
              "      border-left-color: var(--fill-color);\n",
              "      border-top-color: var(--fill-color);\n",
              "    }\n",
              "    30% {\n",
              "      border-color: transparent;\n",
              "      border-left-color: var(--fill-color);\n",
              "      border-top-color: var(--fill-color);\n",
              "      border-right-color: var(--fill-color);\n",
              "    }\n",
              "    40% {\n",
              "      border-color: transparent;\n",
              "      border-right-color: var(--fill-color);\n",
              "      border-top-color: var(--fill-color);\n",
              "    }\n",
              "    60% {\n",
              "      border-color: transparent;\n",
              "      border-right-color: var(--fill-color);\n",
              "    }\n",
              "    80% {\n",
              "      border-color: transparent;\n",
              "      border-right-color: var(--fill-color);\n",
              "      border-bottom-color: var(--fill-color);\n",
              "    }\n",
              "    90% {\n",
              "      border-color: transparent;\n",
              "      border-bottom-color: var(--fill-color);\n",
              "    }\n",
              "  }\n",
              "</style>\n",
              "\n",
              "  <script>\n",
              "    async function quickchart(key) {\n",
              "      const quickchartButtonEl =\n",
              "        document.querySelector('#' + key + ' button');\n",
              "      quickchartButtonEl.disabled = true;  // To prevent multiple clicks.\n",
              "      quickchartButtonEl.classList.add('colab-df-spinner');\n",
              "      try {\n",
              "        const charts = await google.colab.kernel.invokeFunction(\n",
              "            'suggestCharts', [key], {});\n",
              "      } catch (error) {\n",
              "        console.error('Error during call to suggestCharts:', error);\n",
              "      }\n",
              "      quickchartButtonEl.classList.remove('colab-df-spinner');\n",
              "      quickchartButtonEl.classList.add('colab-df-quickchart-complete');\n",
              "    }\n",
              "    (() => {\n",
              "      let quickchartButtonEl =\n",
              "        document.querySelector('#df-fa7c7600-a475-4f9f-9a36-5e6e4994e06a button');\n",
              "      quickchartButtonEl.style.display =\n",
              "        google.colab.kernel.accessAllowed ? 'block' : 'none';\n",
              "    })();\n",
              "  </script>\n",
              "</div>\n",
              "    </div>\n",
              "  </div>\n"
            ]
          },
          "metadata": {},
          "execution_count": 144
        }
      ],
      "source": [
        "recipies = pd.read_csv(\n",
        "    \"https://edunet.kea.su/repo/EduNet-web_dependencies/datasets/recipes.csv\"\n",
        ")\n",
        "recipies"
      ]
    },
    {
      "cell_type": "code",
      "execution_count": null,
      "metadata": {
        "id": "enlZZbwB1dMi"
      },
      "outputs": [],
      "source": [
        "y = recipies[\"rating\"]\n",
        "x = recipies.drop([\"rating\"], axis=1)\n",
        "\n",
        "x_train_all, x_test, y_train_all, y_test = train_test_split(\n",
        "    x.values, y.values, train_size=0.7, random_state=42\n",
        ")"
      ]
    },
    {
      "cell_type": "code",
      "execution_count": null,
      "metadata": {
        "id": "Igew6aaQ1dMi",
        "colab": {
          "base_uri": "https://localhost:8080/"
        },
        "outputId": "11adbe3b-b711-4a25-8d8a-12ef1b53ae6a"
      },
      "outputs": [
        {
          "output_type": "execute_result",
          "data": {
            "text/plain": [
              "array([-0.13558934, -0.13556927, -0.11428329])"
            ]
          },
          "metadata": {},
          "execution_count": 150
        }
      ],
      "source": [
        "# Your code here\n",
        "cbr = catboost.CatBoostRegressor(\n",
        "    iterations=2000,\n",
        "    learning_rate=0.1,\n",
        "    random_state=42,\n",
        "    verbose=0,\n",
        ")\n",
        "cv = StratifiedKFold(n_splits=3)\n",
        "MSE = cross_val_score(cbr, x_train, y_train, cv=cv, scoring = 'neg_mean_squared_error')\n",
        "MSE"
      ]
    },
    {
      "cell_type": "code",
      "source": [
        "#GBRegressor\n",
        "\n",
        "XGBR = xgboost.XGBRegressor(\n",
        "    n_estimators=500,\n",
        "    learning_rate=0.1,\n",
        "    max_depth=5,\n",
        "    random_state=42,\n",
        "    min_child_weight=10,\n",
        "    n_jobs=-1,\n",
        "    objective=\"reg:squarederror\",\n",
        "    booster = 'dart'\n",
        ")\n",
        "\n",
        "cv = StratifiedKFold(n_splits=3)\n",
        "MSE = cross_val_score(XGBR, x_train, y_train, cv=cv, scoring = 'neg_mean_squared_error')\n",
        "MSE"
      ],
      "metadata": {
        "colab": {
          "base_uri": "https://localhost:8080/"
        },
        "id": "NyqCMyJr1qTV",
        "outputId": "7a62d865-4b8a-4638-bdd4-c4c45b1bb6fb"
      },
      "execution_count": null,
      "outputs": [
        {
          "output_type": "execute_result",
          "data": {
            "text/plain": [
              "array([-0.03539545, -0.04019404, -0.03887451])"
            ]
          },
          "metadata": {},
          "execution_count": 164
        }
      ]
    },
    {
      "cell_type": "code",
      "source": [
        "#LGBMRegressor\n",
        "LGBMR = lightgbm.LGBMRegressor(\n",
        "    n_estimators=2000,  # can use more estimators due to SPEEEEEED\n",
        "    learning_rate=0.1,\n",
        "    max_depth=-1,\n",
        "    num_leaves=2**5,\n",
        "    random_state=42,\n",
        "    min_child_weight=9,\n",
        "    n_jobs=-1,\n",
        "    force_col_wise=True,\n",
        "    verbose=-1,\n",
        "    data_sample_strategy = 'goss'\n",
        ")\n",
        "\n",
        "cv = StratifiedKFold(n_splits=3)\n",
        "MSE = cross_val_score(LGBMR, x_train, y_train, cv=cv, scoring = 'neg_mean_squared_error')\n",
        "MSE"
      ],
      "metadata": {
        "colab": {
          "base_uri": "https://localhost:8080/"
        },
        "id": "gNkPX6OI1t0p",
        "outputId": "6a13deca-87c4-4c82-8c73-03e2c56d5851"
      },
      "execution_count": null,
      "outputs": [
        {
          "output_type": "execute_result",
          "data": {
            "text/plain": [
              "array([-0.04409001, -0.04848928, -0.03911312])"
            ]
          },
          "metadata": {},
          "execution_count": 163
        }
      ]
    },
    {
      "cell_type": "code",
      "source": [],
      "metadata": {
        "id": "G_0PSbep2Lch"
      },
      "execution_count": null,
      "outputs": []
    },
    {
      "cell_type": "code",
      "source": [],
      "metadata": {
        "id": "xlEeVvxfx0DB"
      },
      "execution_count": null,
      "outputs": []
    },
    {
      "cell_type": "markdown",
      "metadata": {
        "id": "cIEeS36B1dMi"
      },
      "source": [
        "## Формат результата"
      ]
    },
    {
      "cell_type": "markdown",
      "metadata": {
        "id": "rd7yQrvc1dMi"
      },
      "source": [
        "Получить значения MSE для всех моделей и значение MSE, усреднив предсказания всех моделей. Написать вывод.\n"
      ]
    },
    {
      "cell_type": "markdown",
      "metadata": {
        "id": "ErZcx36Q1dMi"
      },
      "source": [
        "# Задание 4. Подбор гиперпараметров"
      ]
    },
    {
      "cell_type": "markdown",
      "metadata": {
        "id": "QCB-7Fq41dMi"
      },
      "source": [
        "В этом задании нужно подобрать параметры для бустинга `CatBoostRegressor`, используя библиотеку `optuna`. И улучшить результат по сравнению со стандартными параметрами.\n",
        "\n",
        "Список параметров для подбора:\n",
        "\n",
        "* `depth`\n",
        "* `iterations`\n",
        "* `learning_rate`\n",
        "* `colsample_bylevel`\n",
        "* `subsample`\n",
        "* `l2_leaf_reg`\n",
        "* `min_data_in_leaf`\n",
        "* `max_bin`\n",
        "* `random_strength`\n",
        "* `bootstrap_type`\n",
        "\n",
        "**Важно!** *Подбирать параметры нужно на валидационной выборке*"
      ]
    },
    {
      "cell_type": "markdown",
      "metadata": {
        "id": "dFZC1pgv1dMi"
      },
      "source": [
        "Установка и импорт необходимых библиотек:"
      ]
    },
    {
      "cell_type": "code",
      "execution_count": null,
      "metadata": {
        "id": "-5mg0s9z1dMj"
      },
      "outputs": [],
      "source": [
        "!pip install -q catboost\n",
        "!pip install -q optuna"
      ]
    },
    {
      "cell_type": "code",
      "execution_count": null,
      "metadata": {
        "id": "IenNMw2w1dMj"
      },
      "outputs": [],
      "source": [
        "import optuna\n",
        "import numpy as np\n",
        "import pandas as pd\n",
        "from catboost import CatBoostRegressor\n",
        "from optuna.samplers import RandomSampler\n",
        "from sklearn.metrics import mean_squared_error as mse\n",
        "from sklearn.model_selection import train_test_split, KFold"
      ]
    },
    {
      "cell_type": "markdown",
      "metadata": {
        "id": "H0BbNsIW1dMj"
      },
      "source": [
        "Загрузка датасета:"
      ]
    },
    {
      "cell_type": "code",
      "execution_count": null,
      "metadata": {
        "id": "RM6s2Dhi1dMj"
      },
      "outputs": [],
      "source": [
        "recipies = pd.read_csv(\n",
        "    \"https://edunet.kea.su/repo/EduNet-web_dependencies/datasets/recipes.csv\"\n",
        ")"
      ]
    },
    {
      "cell_type": "code",
      "execution_count": null,
      "metadata": {
        "id": "tONvGJmw1dMj"
      },
      "outputs": [],
      "source": [
        "y = recipies[\"rating\"]\n",
        "x = recipies.drop([\"rating\"], axis=1)\n",
        "\n",
        "x_train, x_test, y_train, y_test = train_test_split(\n",
        "    x.values, y.values, train_size=0.7, random_state=42\n",
        ")"
      ]
    },
    {
      "cell_type": "code",
      "execution_count": null,
      "metadata": {
        "id": "zHWLWTf91dMj"
      },
      "outputs": [],
      "source": [
        "model = CatBoostRegressor(random_seed=42)\n",
        "\n",
        "model.fit(\n",
        "    x_train,\n",
        "    y_train,\n",
        "    eval_set=(x_test, y_test),\n",
        "    verbose=200,\n",
        "    use_best_model=True,\n",
        "    plot=False,\n",
        "    early_stopping_rounds=100,\n",
        ")\n",
        "\n",
        "print(\"\\nmse_score before tuning: \", mse(y_test, model.predict(x_test)))"
      ]
    },
    {
      "cell_type": "code",
      "execution_count": null,
      "metadata": {
        "id": "Bs1s0zLB1dMj"
      },
      "outputs": [],
      "source": [
        "# Your code here"
      ]
    },
    {
      "cell_type": "markdown",
      "metadata": {
        "id": "T6ev1WlQ1dMj"
      },
      "source": [
        "## Формат результата\n",
        "\n",
        "Значение `mse` с подобранными параметрами меньше, чем при стандартных параметрах."
      ]
    },
    {
      "cell_type": "markdown",
      "metadata": {
        "id": "ETmVlt1o1dMj"
      },
      "source": [
        "# Задание 5. Ансамблевое обучение (Дополнительно)"
      ]
    },
    {
      "cell_type": "markdown",
      "metadata": {
        "id": "tvFklYrS1dMk"
      },
      "source": [
        "В данной задаче вам нужно диагностировать сердечное заболевание у людей по [медицинским показателям](https://www.kaggle.com/datasets/cherngs/heart-disease-cleveland-uci)."
      ]
    },
    {
      "cell_type": "markdown",
      "metadata": {
        "id": "2AOf-Bl41dMk"
      },
      "source": [
        "Установка и импорт необходимых библиотек:"
      ]
    },
    {
      "cell_type": "code",
      "execution_count": null,
      "metadata": {
        "id": "vG0jOGih1dMk"
      },
      "outputs": [],
      "source": [
        "!pip install -q catboost\n",
        "!pip install -q lightgbm==3.0"
      ]
    },
    {
      "cell_type": "code",
      "execution_count": null,
      "metadata": {
        "id": "dRVA3T161dMk"
      },
      "outputs": [],
      "source": [
        "import catboost\n",
        "import lightgbm\n",
        "import xgboost\n",
        "import sklearn\n",
        "import numpy as np\n",
        "import pandas as pd\n",
        "import seaborn as sns\n",
        "import matplotlib.pyplot as plt\n",
        "\n",
        "from sklearn.svm import SVC\n",
        "from sklearn.naive_bayes import GaussianNB\n",
        "from sklearn.tree import DecisionTreeClassifier\n",
        "from sklearn.neighbors import KNeighborsClassifier\n",
        "from sklearn.linear_model import LogisticRegression\n",
        "from sklearn.model_selection import (\n",
        "    train_test_split,\n",
        "    cross_val_score,\n",
        "    KFold,\n",
        ")\n",
        "from sklearn.ensemble import (\n",
        "    RandomForestClassifier,\n",
        "    ExtraTreesClassifier,\n",
        "    VotingClassifier,\n",
        ")"
      ]
    },
    {
      "cell_type": "markdown",
      "metadata": {
        "id": "BKqCNd2E1dMk"
      },
      "source": [
        "Загрузка датасета:"
      ]
    },
    {
      "cell_type": "code",
      "execution_count": null,
      "metadata": {
        "id": "gAxWRRXP1dMk"
      },
      "outputs": [],
      "source": [
        "heart_dataset = pd.read_csv(\n",
        "    \"https://edunet.kea.su/repo/EduNet-web_dependencies/datasets/heart.csv \"\n",
        ")"
      ]
    },
    {
      "cell_type": "code",
      "execution_count": null,
      "metadata": {
        "id": "A54zeHnI1dMk"
      },
      "outputs": [],
      "source": [
        "x = heart_dataset.drop(\"target\", axis=1)\n",
        "y = heart_dataset[\"target\"]\n",
        "x_train, x_test, y_train, y_test = train_test_split(x, y, random_state=42)"
      ]
    },
    {
      "cell_type": "markdown",
      "metadata": {
        "id": "365Ausd11dMk"
      },
      "source": [
        "Обучите разнообразные классификаторы, приведенные ниже, а также ансамбль `VotingClassifier` из `sklearn.ensemble`, объединяющий эти классификаторы с помощью жесткого или мякого голосования (параметр `voting =` `'hard'` или `'soft'` соответственно). Оцените качество моделей с помощью кросс-валидации на тренировочном наборе, используя функцию `cross_val_score` и метрику `f1`."
      ]
    },
    {
      "cell_type": "code",
      "execution_count": null,
      "metadata": {
        "id": "wF32ToNJ1dMk"
      },
      "outputs": [],
      "source": [
        "rng = np.random.RandomState(42)\n",
        "\n",
        "dt = DecisionTreeClassifier(random_state=rng, max_depth=10, min_samples_leaf=10)\n",
        "rf = RandomForestClassifier(n_estimators=50, random_state=rng)\n",
        "etc = ExtraTreesClassifier(random_state=rng)\n",
        "knn = KNeighborsClassifier(n_neighbors=5, weights='distance')\n",
        "svc_lin = SVC(kernel='linear', probability=True, random_state=rng)\n",
        "svc_rbf = SVC(kernel='rbf', probability=True, random_state=rng)\n",
        "cat = catboost.CatBoostClassifier(verbose=0, random_seed=42)\n",
        "lgbm = lightgbm.LGBMClassifier(random_state=42)\n",
        "lgbm_rf = lightgbm.LGBMClassifier(boosting_type=\"rf\", subsample_freq=1,subsample=0.7, random_state=42)\n",
        "xgb = xgboost.XGBClassifier(random_state=42)\n",
        "xgb_rf = xgboost.XGBRFClassifier(random_state=42)\n",
        "lr = LogisticRegression(solver='liblinear', max_iter=10000)\n",
        "nb = GaussianNB()\n",
        "\n",
        "# Your code here\n",
        "\n",
        "voting_hard =\n",
        "voting_soft =\n",
        "# -----------\n",
        "\n",
        "for model in [voting_hard, voting_soft]:\n",
        "  scores = cross_val_score(model, x_train, y_train, cv=KFold(n_splits=3, shuffle=True, random_state=rng), scoring='f1')\n",
        "  print(f'{model.__class__.__name__}: {scores.mean()}')"
      ]
    },
    {
      "cell_type": "markdown",
      "metadata": {
        "id": "fmwv82VD1dMl"
      },
      "source": [
        "Вы можете заметить, что ансамбль показывает хорошее, но не лучшее качество предсказания, попробуем его улучшить. Как вы знаете, ансамбли работают лучше, когда модели, входящие в них, не скоррелированы друг с другом. Определите корреляцию предсказаний базовых моделей в ансамбле на тренировочном наборе и удалите из ансамбля те модели, чьи предсказания будут сильнее коррелировать с остальными. Можете модифицировать функцию `base_model_pair_correlation` из лекции."
      ]
    },
    {
      "cell_type": "code",
      "execution_count": null,
      "metadata": {
        "id": "4OM8o8yM1dMl"
      },
      "outputs": [],
      "source": [
        "# Your code here"
      ]
    },
    {
      "cell_type": "markdown",
      "metadata": {
        "id": "rvT6dZfD1dMl"
      },
      "source": [
        "Создайте новый ансамбль, на исправленном наборе моделей и оцените его качество с помощью кросс-валидации на тренировочном наборе, используя функцию `cross_val_score` и метрику `f1`."
      ]
    },
    {
      "cell_type": "code",
      "execution_count": null,
      "metadata": {
        "id": "njXNs9wP1dMl"
      },
      "outputs": [],
      "source": [
        "# Your code here\n",
        "\n",
        "voting_hard_2 =\n",
        "voting_soft_2 =\n",
        "# ------------\n",
        "\n",
        "for model in [voting_hard_2, voting_soft_2]:\n",
        "  scores = cross_val_score(model, x_train, y_train, cv=KFold(n_splits=3, shuffle=True, random_state=rng), scoring='f1')\n",
        "  print(f'{model.__class__.__name__}: {scores.mean()}')"
      ]
    },
    {
      "cell_type": "markdown",
      "metadata": {
        "id": "oFinKiL51dMl"
      },
      "source": [
        "Обучите все получившиеся модели на тренировочном наборе и испытайте их качество на тестовом наборе. Получилось ли у улучшенных версий ансамблевого классификатора превзойти базовые модели, входящие в него, и свои предыдущие версии?"
      ]
    },
    {
      "cell_type": "code",
      "execution_count": null,
      "metadata": {
        "id": "DssZ3F-i1dMl"
      },
      "outputs": [],
      "source": [
        "# Your code here"
      ]
    },
    {
      "cell_type": "markdown",
      "metadata": {
        "id": "zIwaX5FI1dMl"
      },
      "source": [
        "Какие ансамбли работают лучше? Всегда ли больше моделей значит лучше?\n",
        "\n",
        "**Напишите вывод**"
      ]
    },
    {
      "cell_type": "markdown",
      "metadata": {
        "id": "itQnmAEw1dMl"
      },
      "source": [
        "## Формат результата"
      ]
    },
    {
      "cell_type": "markdown",
      "metadata": {
        "id": "0q93B7oT1dMl"
      },
      "source": [
        "Получить значения качества для ансамблей и моделей."
      ]
    }
  ],
  "metadata": {
    "colab": {
      "provenance": [],
      "toc_visible": true,
      "include_colab_link": true
    },
    "language_info": {
      "name": "python"
    },
    "kernelspec": {
      "name": "python3",
      "display_name": "Python 3"
    }
  },
  "nbformat": 4,
  "nbformat_minor": 0
}